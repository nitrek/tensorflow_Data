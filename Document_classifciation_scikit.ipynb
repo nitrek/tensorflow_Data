{
 "cells": [
  {
   "cell_type": "markdown",
   "metadata": {},
   "source": [
    "# Document Classification using Scikit"
   ]
  },
  {
   "cell_type": "markdown",
   "metadata": {},
   "source": [
    "# Pre-processing"
   ]
  },
  {
   "cell_type": "code",
   "execution_count": 21,
   "metadata": {
    "collapsed": true
   },
   "outputs": [],
   "source": [
    "import pandas as pd\n",
    "import os\n",
    "import re\n",
    "from nltk.corpus import stopwords"
   ]
  },
  {
   "cell_type": "code",
   "execution_count": 2,
   "metadata": {
    "collapsed": true
   },
   "outputs": [],
   "source": [
    "directory = \"/Users/ilabuser/TF/tensorflow_tryouts/Text_full/\""
   ]
  },
  {
   "cell_type": "code",
   "execution_count": 3,
   "metadata": {
    "collapsed": true
   },
   "outputs": [],
   "source": [
    "f_names = []"
   ]
  },
  {
   "cell_type": "code",
   "execution_count": 4,
   "metadata": {
    "collapsed": false
   },
   "outputs": [],
   "source": [
    "filenames = os.listdir(directory)\n",
    "    \n",
    "for file in filenames:\n",
    "    f_name = os.path.join(directory, file)\n",
    "    f_names.append(f_name)"
   ]
  },
  {
   "cell_type": "code",
   "execution_count": 16,
   "metadata": {
    "collapsed": false
   },
   "outputs": [],
   "source": [
    "data_corpus = {}\n",
    "\n",
    "for f in filenames:\n",
    "    f_name = os.path.join(directory, f)\n",
    "    fi = open(f_name)\n",
    "    data = fi.read().lower()\n",
    "    data_corpus[f] = data"
   ]
  },
  {
   "cell_type": "code",
   "execution_count": 17,
   "metadata": {
    "collapsed": false
   },
   "outputs": [
    {
     "data": {
      "text/plain": [
       "'united states of america\\nbefore the\\nsecurities and exchange commission\\nwashington, d.c. 20549\\nadministrative proceedings rulings\\nrelease no. 3815/april 29, 2016\\nadministrative proceeding\\nfile no. 3-17133\\n\\nin the matter of\\ntexstar oil corporation, and\\nbonamour, inc.\\n\\nstay order\\n\\ntoday, the parties filed a joint motion to stay this proceeding based upon their agreement\\nin principle to a settlement that will resolve the proceeding on all major terms.\\nfor good cause shown, it is ordered that the joint motion is granted, and the\\nproceeding is stayed, subject to compliance with rule of practice 161(c)(2), 17 c.f.r.\\n\\xc2\\xa7 201.161(c)(2), requiring that this office be notified promptly if any of the requirements of the\\nrule are not met.\\n_______________________________\\njason s. patil\\nadministrative law judge\\n\\n\\x0c'"
      ]
     },
     "execution_count": 17,
     "metadata": {},
     "output_type": "execute_result"
    }
   ],
   "source": [
    "data_corpus['ap-3815.pdf.txt']"
   ]
  },
  {
   "cell_type": "code",
   "execution_count": 18,
   "metadata": {
    "collapsed": true
   },
   "outputs": [],
   "source": [
    "data = pd.DataFrame.from_dict(data_corpus,orient='index')"
   ]
  },
  {
   "cell_type": "code",
   "execution_count": 19,
   "metadata": {
    "collapsed": true
   },
   "outputs": [],
   "source": [
    "data = data.reset_index()\n",
    "data.columns = ['file_name','text']"
   ]
  },
  {
   "cell_type": "code",
   "execution_count": 20,
   "metadata": {
    "collapsed": false
   },
   "outputs": [
    {
     "data": {
      "text/html": [
       "<div>\n",
       "<table border=\"1\" class=\"dataframe\">\n",
       "  <thead>\n",
       "    <tr style=\"text-align: right;\">\n",
       "      <th></th>\n",
       "      <th>file_name</th>\n",
       "      <th>text</th>\n",
       "    </tr>\n",
       "  </thead>\n",
       "  <tbody>\n",
       "    <tr>\n",
       "      <th>0</th>\n",
       "      <td>ap-4081.pdf.txt</td>\n",
       "      <td>united states of america\\nbefore the\\nsecuriti...</td>\n",
       "    </tr>\n",
       "    <tr>\n",
       "      <th>1</th>\n",
       "      <td>acsec-transcript-071916.pdf.txt</td>\n",
       "      <td>page 1\\n\\nu.s. securities and exchange commiss...</td>\n",
       "    </tr>\n",
       "    <tr>\n",
       "      <th>2</th>\n",
       "      <td>34-77250.pdf.txt</td>\n",
       "      <td>united states of america\\nbefore the\\nsecuriti...</td>\n",
       "    </tr>\n",
       "    <tr>\n",
       "      <th>3</th>\n",
       "      <td>ap-3748.pdf.txt</td>\n",
       "      <td>united states of america\\nbefore the\\nsecuriti...</td>\n",
       "    </tr>\n",
       "    <tr>\n",
       "      <th>4</th>\n",
       "      <td>33-10168.pdf.txt</td>\n",
       "      <td>united states of america\\nbefore the\\nsecuriti...</td>\n",
       "    </tr>\n",
       "    <tr>\n",
       "      <th>5</th>\n",
       "      <td>34-68988.pdf.txt</td>\n",
       "      <td>united states of america\\nbefore the\\nsecuriti...</td>\n",
       "    </tr>\n",
       "    <tr>\n",
       "      <th>6</th>\n",
       "      <td>33-10094.pdf.txt</td>\n",
       "      <td>united states of america\\nbefore the\\nsecuriti...</td>\n",
       "    </tr>\n",
       "    <tr>\n",
       "      <th>7</th>\n",
       "      <td>33-9480.pdf.txt</td>\n",
       "      <td>united states of america\\nbefore the\\nsecuriti...</td>\n",
       "    </tr>\n",
       "    <tr>\n",
       "      <th>8</th>\n",
       "      <td>34-75165.pdf.txt</td>\n",
       "      <td>securities and exchange commission\\nrelease no...</td>\n",
       "    </tr>\n",
       "    <tr>\n",
       "      <th>9</th>\n",
       "      <td>id302cff.pdf.txt</td>\n",
       "      <td>initial decision release no. 302\\nadministrati...</td>\n",
       "    </tr>\n",
       "    <tr>\n",
       "      <th>10</th>\n",
       "      <td>ap-3948.pdf.txt</td>\n",
       "      <td>united states of america\\nbefore the\\nsecuriti...</td>\n",
       "    </tr>\n",
       "    <tr>\n",
       "      <th>11</th>\n",
       "      <td>ap-3776.pdf.txt</td>\n",
       "      <td>united states of america\\nbefore the\\nsecuriti...</td>\n",
       "    </tr>\n",
       "    <tr>\n",
       "      <th>12</th>\n",
       "      <td>34-53041.pdf.txt</td>\n",
       "      <td>united states of america\\nbefore the\\nsecuriti...</td>\n",
       "    </tr>\n",
       "    <tr>\n",
       "      <th>13</th>\n",
       "      <td>monyquiz.pdf.txt</td>\n",
       "      <td>test your\\n\\nmoney$ marts\\n\\nfacts on saving a...</td>\n",
       "    </tr>\n",
       "    <tr>\n",
       "      <th>14</th>\n",
       "      <td>34-77739.pdf.txt</td>\n",
       "      <td>united states of america\\nbefore the\\nsecuriti...</td>\n",
       "    </tr>\n",
       "    <tr>\n",
       "      <th>15</th>\n",
       "      <td>33-10228.pdf.txt</td>\n",
       "      <td>united states of america\\nbefore the\\nsecuriti...</td>\n",
       "    </tr>\n",
       "    <tr>\n",
       "      <th>16</th>\n",
       "      <td>34-77423.pdf.txt</td>\n",
       "      <td>united states of america\\nbefore the\\nsecuriti...</td>\n",
       "    </tr>\n",
       "    <tr>\n",
       "      <th>17</th>\n",
       "      <td>34-60593.pdf.txt</td>\n",
       "      <td>united states of america\\nbefore the\\nsecuriti...</td>\n",
       "    </tr>\n",
       "    <tr>\n",
       "      <th>18</th>\n",
       "      <td>34-77013.pdf.txt</td>\n",
       "      <td>united states of america\\nbefore the\\nsecuriti...</td>\n",
       "    </tr>\n",
       "    <tr>\n",
       "      <th>19</th>\n",
       "      <td>34-70082.pdf.txt</td>\n",
       "      <td>united states of america\\nbefore the\\nsecuriti...</td>\n",
       "    </tr>\n",
       "    <tr>\n",
       "      <th>20</th>\n",
       "      <td>34-77288.pdf.txt</td>\n",
       "      <td>united states of america\\nbefore the\\nsecuriti...</td>\n",
       "    </tr>\n",
       "    <tr>\n",
       "      <th>21</th>\n",
       "      <td>ap-4044.pdf.txt</td>\n",
       "      <td>united states of america\\nbefore the\\nsecuriti...</td>\n",
       "    </tr>\n",
       "    <tr>\n",
       "      <th>22</th>\n",
       "      <td>sgtd.pdf.txt</td>\n",
       "      <td>2016 louisiana state government\\ntelephone di...</td>\n",
       "    </tr>\n",
       "    <tr>\n",
       "      <th>23</th>\n",
       "      <td>ap-3535.pdf.txt</td>\n",
       "      <td>united states of america\\nbefore the\\nsecuriti...</td>\n",
       "    </tr>\n",
       "    <tr>\n",
       "      <th>24</th>\n",
       "      <td>33-10225.pdf.txt</td>\n",
       "      <td>united states of america\\nbefore the\\nsecuriti...</td>\n",
       "    </tr>\n",
       "    <tr>\n",
       "      <th>25</th>\n",
       "      <td>34-78059.pdf.txt</td>\n",
       "      <td>united states of america\\nbefore the\\nsecuriti...</td>\n",
       "    </tr>\n",
       "    <tr>\n",
       "      <th>26</th>\n",
       "      <td>34-72247.pdf.txt</td>\n",
       "      <td>united states of america\\nbefore the\\nsecuriti...</td>\n",
       "    </tr>\n",
       "    <tr>\n",
       "      <th>27</th>\n",
       "      <td>34-72505.pdf.txt</td>\n",
       "      <td>united states of america\\nbefore the\\nsecuriti...</td>\n",
       "    </tr>\n",
       "    <tr>\n",
       "      <th>28</th>\n",
       "      <td>ia-4455.pdf.txt</td>\n",
       "      <td>united states of america\\nbefore the\\nsecuriti...</td>\n",
       "    </tr>\n",
       "    <tr>\n",
       "      <th>29</th>\n",
       "      <td>ap-4000.pdf.txt</td>\n",
       "      <td>united states of america\\nbefore the\\nsecuriti...</td>\n",
       "    </tr>\n",
       "    <tr>\n",
       "      <th>...</th>\n",
       "      <td>...</td>\n",
       "      <td>...</td>\n",
       "    </tr>\n",
       "    <tr>\n",
       "      <th>3646</th>\n",
       "      <td>ap-4171.pdf.txt</td>\n",
       "      <td>united states of america\\nbefore the\\nsecuriti...</td>\n",
       "    </tr>\n",
       "    <tr>\n",
       "      <th>3647</th>\n",
       "      <td>ap-3618.pdf.txt</td>\n",
       "      <td>united states of america\\nbefore the\\nsecuriti...</td>\n",
       "    </tr>\n",
       "    <tr>\n",
       "      <th>3648</th>\n",
       "      <td>34-78184.pdf.txt</td>\n",
       "      <td>united states of america\\nbefore the\\nsecuriti...</td>\n",
       "    </tr>\n",
       "    <tr>\n",
       "      <th>3649</th>\n",
       "      <td>34-79042-o.pdf.txt</td>\n",
       "      <td>united states of america\\nbefore the\\nsecuriti...</td>\n",
       "    </tr>\n",
       "    <tr>\n",
       "      <th>3650</th>\n",
       "      <td>comp23658.pdf.txt</td>\n",
       "      <td>case 1:16-cv-24106-jal document 1 entered on f...</td>\n",
       "    </tr>\n",
       "    <tr>\n",
       "      <th>3651</th>\n",
       "      <td>ap-4303.pdf.txt</td>\n",
       "      <td>united states of america\\nbefore the\\nsecuriti...</td>\n",
       "    </tr>\n",
       "    <tr>\n",
       "      <th>3652</th>\n",
       "      <td>34-77563.pdf.txt</td>\n",
       "      <td>united states of america\\nbefore the\\nsecuriti...</td>\n",
       "    </tr>\n",
       "    <tr>\n",
       "      <th>3653</th>\n",
       "      <td>ap-3501.pdf.txt</td>\n",
       "      <td>united states of america\\nbefore the\\nsecuriti...</td>\n",
       "    </tr>\n",
       "    <tr>\n",
       "      <th>3654</th>\n",
       "      <td>34-76722.pdf.txt</td>\n",
       "      <td>united states of america\\nbefore the\\nsecuriti...</td>\n",
       "    </tr>\n",
       "    <tr>\n",
       "      <th>3655</th>\n",
       "      <td>id1001ce.pdf.txt</td>\n",
       "      <td>initial decision release no. 1001\\nadministrat...</td>\n",
       "    </tr>\n",
       "    <tr>\n",
       "      <th>3656</th>\n",
       "      <td>33-10158.pdf.txt</td>\n",
       "      <td>united states of america\\nbefore the\\nsecuriti...</td>\n",
       "    </tr>\n",
       "    <tr>\n",
       "      <th>3657</th>\n",
       "      <td>33-10197.pdf.txt</td>\n",
       "      <td>united states of america\\nbefore the\\nsecuriti...</td>\n",
       "    </tr>\n",
       "    <tr>\n",
       "      <th>3658</th>\n",
       "      <td>34-78560.pdf.txt</td>\n",
       "      <td>united states of america\\nbefore the\\nsecuriti...</td>\n",
       "    </tr>\n",
       "    <tr>\n",
       "      <th>3659</th>\n",
       "      <td>33-9354.pdf.txt</td>\n",
       "      <td>securities and exchange commission\\n17 cfr par...</td>\n",
       "    </tr>\n",
       "    <tr>\n",
       "      <th>3660</th>\n",
       "      <td>34-78148.pdf.txt</td>\n",
       "      <td>united states of america\\nbefore the\\nsecuriti...</td>\n",
       "    </tr>\n",
       "    <tr>\n",
       "      <th>3661</th>\n",
       "      <td>34-77870.pdf.txt</td>\n",
       "      <td>united states of america\\nbefore the\\nsecuriti...</td>\n",
       "    </tr>\n",
       "    <tr>\n",
       "      <th>3662</th>\n",
       "      <td>id940jeg.pdf.txt</td>\n",
       "      <td>initial decision release no. 940\\nadministrati...</td>\n",
       "    </tr>\n",
       "    <tr>\n",
       "      <th>3663</th>\n",
       "      <td>introduction.pdf.txt</td>\n",
       "      <td>human resources policies and procedures\\nintro...</td>\n",
       "    </tr>\n",
       "    <tr>\n",
       "      <th>3664</th>\n",
       "      <td>34-78708.pdf.txt</td>\n",
       "      <td>united states of america\\nbefore the\\nsecuriti...</td>\n",
       "    </tr>\n",
       "    <tr>\n",
       "      <th>3665</th>\n",
       "      <td>34-74231.pdf.txt</td>\n",
       "      <td>united states of america\\nbefore the\\nsecuriti...</td>\n",
       "    </tr>\n",
       "    <tr>\n",
       "      <th>3666</th>\n",
       "      <td>34-59930.pdf.txt</td>\n",
       "      <td>united states of america \\n\\nbefore the\\n\\nsec...</td>\n",
       "    </tr>\n",
       "    <tr>\n",
       "      <th>3667</th>\n",
       "      <td>ap-3577.pdf.txt</td>\n",
       "      <td>united states of america\\nbefore the\\nsecuriti...</td>\n",
       "    </tr>\n",
       "    <tr>\n",
       "      <th>3668</th>\n",
       "      <td>34-76743.pdf.txt</td>\n",
       "      <td>securities and exchange commission\\n17 cfr par...</td>\n",
       "    </tr>\n",
       "    <tr>\n",
       "      <th>3669</th>\n",
       "      <td>ap-4145.pdf.txt</td>\n",
       "      <td>united states of america\\nbefore the\\nsecuriti...</td>\n",
       "    </tr>\n",
       "    <tr>\n",
       "      <th>3670</th>\n",
       "      <td>34-67824.pdf.txt</td>\n",
       "      <td>united states of america\\nbefore the\\nsecuriti...</td>\n",
       "    </tr>\n",
       "    <tr>\n",
       "      <th>3671</th>\n",
       "      <td>ap-3589.pdf.txt</td>\n",
       "      <td>united states of america\\nbefore the\\nsecuriti...</td>\n",
       "    </tr>\n",
       "    <tr>\n",
       "      <th>3672</th>\n",
       "      <td>34-79175.pdf.txt</td>\n",
       "      <td>united states of america\\nbefore the\\nsecuriti...</td>\n",
       "    </tr>\n",
       "    <tr>\n",
       "      <th>3673</th>\n",
       "      <td>34-59870.pdf.txt</td>\n",
       "      <td>united states of america \\n\\nbefore the \\n\\nse...</td>\n",
       "    </tr>\n",
       "    <tr>\n",
       "      <th>3674</th>\n",
       "      <td>33-10002.pdf.txt</td>\n",
       "      <td>united states of america\\nbefore the\\nsecuriti...</td>\n",
       "    </tr>\n",
       "    <tr>\n",
       "      <th>3675</th>\n",
       "      <td>34-77717.pdf.txt</td>\n",
       "      <td>united states of america\\nbefore the\\nsecuriti...</td>\n",
       "    </tr>\n",
       "  </tbody>\n",
       "</table>\n",
       "<p>3676 rows × 2 columns</p>\n",
       "</div>"
      ],
      "text/plain": [
       "                            file_name  \\\n",
       "0                     ap-4081.pdf.txt   \n",
       "1     acsec-transcript-071916.pdf.txt   \n",
       "2                    34-77250.pdf.txt   \n",
       "3                     ap-3748.pdf.txt   \n",
       "4                    33-10168.pdf.txt   \n",
       "5                    34-68988.pdf.txt   \n",
       "6                    33-10094.pdf.txt   \n",
       "7                     33-9480.pdf.txt   \n",
       "8                    34-75165.pdf.txt   \n",
       "9                    id302cff.pdf.txt   \n",
       "10                    ap-3948.pdf.txt   \n",
       "11                    ap-3776.pdf.txt   \n",
       "12                   34-53041.pdf.txt   \n",
       "13                   monyquiz.pdf.txt   \n",
       "14                   34-77739.pdf.txt   \n",
       "15                   33-10228.pdf.txt   \n",
       "16                   34-77423.pdf.txt   \n",
       "17                   34-60593.pdf.txt   \n",
       "18                   34-77013.pdf.txt   \n",
       "19                   34-70082.pdf.txt   \n",
       "20                   34-77288.pdf.txt   \n",
       "21                    ap-4044.pdf.txt   \n",
       "22                       sgtd.pdf.txt   \n",
       "23                    ap-3535.pdf.txt   \n",
       "24                   33-10225.pdf.txt   \n",
       "25                   34-78059.pdf.txt   \n",
       "26                   34-72247.pdf.txt   \n",
       "27                   34-72505.pdf.txt   \n",
       "28                    ia-4455.pdf.txt   \n",
       "29                    ap-4000.pdf.txt   \n",
       "...                               ...   \n",
       "3646                  ap-4171.pdf.txt   \n",
       "3647                  ap-3618.pdf.txt   \n",
       "3648                 34-78184.pdf.txt   \n",
       "3649               34-79042-o.pdf.txt   \n",
       "3650                comp23658.pdf.txt   \n",
       "3651                  ap-4303.pdf.txt   \n",
       "3652                 34-77563.pdf.txt   \n",
       "3653                  ap-3501.pdf.txt   \n",
       "3654                 34-76722.pdf.txt   \n",
       "3655                 id1001ce.pdf.txt   \n",
       "3656                 33-10158.pdf.txt   \n",
       "3657                 33-10197.pdf.txt   \n",
       "3658                 34-78560.pdf.txt   \n",
       "3659                  33-9354.pdf.txt   \n",
       "3660                 34-78148.pdf.txt   \n",
       "3661                 34-77870.pdf.txt   \n",
       "3662                 id940jeg.pdf.txt   \n",
       "3663             introduction.pdf.txt   \n",
       "3664                 34-78708.pdf.txt   \n",
       "3665                 34-74231.pdf.txt   \n",
       "3666                 34-59930.pdf.txt   \n",
       "3667                  ap-3577.pdf.txt   \n",
       "3668                 34-76743.pdf.txt   \n",
       "3669                  ap-4145.pdf.txt   \n",
       "3670                 34-67824.pdf.txt   \n",
       "3671                  ap-3589.pdf.txt   \n",
       "3672                 34-79175.pdf.txt   \n",
       "3673                 34-59870.pdf.txt   \n",
       "3674                 33-10002.pdf.txt   \n",
       "3675                 34-77717.pdf.txt   \n",
       "\n",
       "                                                   text  \n",
       "0     united states of america\\nbefore the\\nsecuriti...  \n",
       "1     page 1\\n\\nu.s. securities and exchange commiss...  \n",
       "2     united states of america\\nbefore the\\nsecuriti...  \n",
       "3     united states of america\\nbefore the\\nsecuriti...  \n",
       "4     united states of america\\nbefore the\\nsecuriti...  \n",
       "5     united states of america\\nbefore the\\nsecuriti...  \n",
       "6     united states of america\\nbefore the\\nsecuriti...  \n",
       "7     united states of america\\nbefore the\\nsecuriti...  \n",
       "8     securities and exchange commission\\nrelease no...  \n",
       "9     initial decision release no. 302\\nadministrati...  \n",
       "10    united states of america\\nbefore the\\nsecuriti...  \n",
       "11    united states of america\\nbefore the\\nsecuriti...  \n",
       "12    united states of america\\nbefore the\\nsecuriti...  \n",
       "13    test your\\n\\nmoney$ marts\\n\\nfacts on saving a...  \n",
       "14    united states of america\\nbefore the\\nsecuriti...  \n",
       "15    united states of america\\nbefore the\\nsecuriti...  \n",
       "16    united states of america\\nbefore the\\nsecuriti...  \n",
       "17    united states of america\\nbefore the\\nsecuriti...  \n",
       "18    united states of america\\nbefore the\\nsecuriti...  \n",
       "19    united states of america\\nbefore the\\nsecuriti...  \n",
       "20    united states of america\\nbefore the\\nsecuriti...  \n",
       "21    united states of america\\nbefore the\\nsecuriti...  \n",
       "22    \f",
       "2016 louisiana state government\\ntelephone di...  \n",
       "23    united states of america\\nbefore the\\nsecuriti...  \n",
       "24    united states of america\\nbefore the\\nsecuriti...  \n",
       "25    united states of america\\nbefore the\\nsecuriti...  \n",
       "26    united states of america\\nbefore the\\nsecuriti...  \n",
       "27    united states of america\\nbefore the\\nsecuriti...  \n",
       "28    united states of america\\nbefore the\\nsecuriti...  \n",
       "29    united states of america\\nbefore the\\nsecuriti...  \n",
       "...                                                 ...  \n",
       "3646  united states of america\\nbefore the\\nsecuriti...  \n",
       "3647  united states of america\\nbefore the\\nsecuriti...  \n",
       "3648  united states of america\\nbefore the\\nsecuriti...  \n",
       "3649  united states of america\\nbefore the\\nsecuriti...  \n",
       "3650  case 1:16-cv-24106-jal document 1 entered on f...  \n",
       "3651  united states of america\\nbefore the\\nsecuriti...  \n",
       "3652  united states of america\\nbefore the\\nsecuriti...  \n",
       "3653  united states of america\\nbefore the\\nsecuriti...  \n",
       "3654  united states of america\\nbefore the\\nsecuriti...  \n",
       "3655  initial decision release no. 1001\\nadministrat...  \n",
       "3656  united states of america\\nbefore the\\nsecuriti...  \n",
       "3657  united states of america\\nbefore the\\nsecuriti...  \n",
       "3658  united states of america\\nbefore the\\nsecuriti...  \n",
       "3659  securities and exchange commission\\n17 cfr par...  \n",
       "3660  united states of america\\nbefore the\\nsecuriti...  \n",
       "3661  united states of america\\nbefore the\\nsecuriti...  \n",
       "3662  initial decision release no. 940\\nadministrati...  \n",
       "3663  human resources policies and procedures\\nintro...  \n",
       "3664  united states of america\\nbefore the\\nsecuriti...  \n",
       "3665  united states of america\\nbefore the\\nsecuriti...  \n",
       "3666  united states of america \\n\\nbefore the\\n\\nsec...  \n",
       "3667  united states of america\\nbefore the\\nsecuriti...  \n",
       "3668  securities and exchange commission\\n17 cfr par...  \n",
       "3669  united states of america\\nbefore the\\nsecuriti...  \n",
       "3670  united states of america\\nbefore the\\nsecuriti...  \n",
       "3671  united states of america\\nbefore the\\nsecuriti...  \n",
       "3672  united states of america\\nbefore the\\nsecuriti...  \n",
       "3673  united states of america \\n\\nbefore the \\n\\nse...  \n",
       "3674  united states of america\\nbefore the\\nsecuriti...  \n",
       "3675  united states of america\\nbefore the\\nsecuriti...  \n",
       "\n",
       "[3676 rows x 2 columns]"
      ]
     },
     "execution_count": 20,
     "metadata": {},
     "output_type": "execute_result"
    }
   ],
   "source": [
    "data"
   ]
  },
  {
   "cell_type": "code",
   "execution_count": 38,
   "metadata": {
    "collapsed": false
   },
   "outputs": [],
   "source": [
    "def clean_text(raw_text):\n",
    "    letters_only = re.sub(\"[^a-z]\", \" \", raw_text)\n",
    "    words = letters_only.split()\n",
    "    stops = set(stopwords.words(\"english\"))\n",
    "    meaningful_words = [w for w in words if not w in stops and len(w)>1]\n",
    "    return( \" \".join( meaningful_words ))"
   ]
  },
  {
   "cell_type": "code",
   "execution_count": 107,
   "metadata": {
    "collapsed": false
   },
   "outputs": [
    {
     "name": "stdout",
     "output_type": "stream",
     "text": [
      "[u'i', u'me', u'my', u'myself', u'we', u'our', u'ours', u'ourselves', u'you', u'your', u'yours', u'yourself', u'yourselves', u'he', u'him', u'his', u'himself', u'she', u'her', u'hers', u'herself', u'it', u'its', u'itself', u'they', u'them', u'their', u'theirs', u'themselves', u'what', u'which', u'who', u'whom', u'this', u'that', u'these', u'those', u'am', u'is', u'are', u'was', u'were', u'be', u'been', u'being', u'have', u'has', u'had', u'having', u'do', u'does', u'did', u'doing', u'a', u'an', u'the', u'and', u'but', u'if', u'or', u'because', u'as', u'until', u'while', u'of', u'at', u'by', u'for', u'with', u'about', u'against', u'between', u'into', u'through', u'during', u'before', u'after', u'above', u'below', u'to', u'from', u'up', u'down', u'in', u'out', u'on', u'off', u'over', u'under', u'again', u'further', u'then', u'once', u'here', u'there', u'when', u'where', u'why', u'how', u'all', u'any', u'both', u'each', u'few', u'more', u'most', u'other', u'some', u'such', u'no', u'nor', u'not', u'only', u'own', u'same', u'so', u'than', u'too', u'very', u's', u't', u'can', u'will', u'just', u'don', u'should', u'now', u'd', u'll', u'm', u'o', u're', u've', u'y', u'ain', u'aren', u'couldn', u'didn', u'doesn', u'hadn', u'hasn', u'haven', u'isn', u'ma', u'mightn', u'mustn', u'needn', u'shan', u'shouldn', u'wasn', u'weren', u'won', u'wouldn']\n"
     ]
    }
   ],
   "source": [
    "print stopwords.words(\"english\")"
   ]
  },
  {
   "cell_type": "code",
   "execution_count": 41,
   "metadata": {
    "collapsed": false
   },
   "outputs": [],
   "source": [
    "data['text_clean'] = data['text'].apply(clean_text)"
   ]
  },
  {
   "cell_type": "code",
   "execution_count": 43,
   "metadata": {
    "collapsed": false
   },
   "outputs": [
    {
     "data": {
      "text/plain": [
       "'united states of america\\nbefore the\\nsecurities and exchange commission\\nwashington, d.c. 20549\\nadministrative proceedings rulings\\nrelease no. 4081/august 22, 2016\\nadministrative proceeding\\nfile no. 3-17376\\n\\nin the matter of\\neastland financial corp.,\\ngranite cliffs, incorporated, and\\ngreater asia realty holdings, ltd.\\n\\norder postponing hearing and\\nscheduling prehearing\\nconference\\n\\non august 10, 2016, the securities and exchange commission issued an order instituting\\nproceedings (oip) against respondents pursuant to section 12(j) of the securities exchange act\\nof 1934. the hearing is scheduled to commence on august 29, 2016.\\non august 18, 2016, the division of enforcement filed a declaration of service\\nestablishing that respondents were served with the oip by u.s. postal service express mail on\\naugust 15, 2016, in accordance with rule of practice 141(a)(2)(ii), 17 c.f.r. \\xc2\\xa7 201.141(a)(ii).\\nrespondents\\xe2\\x80\\x99 answers are due by august 29, 2016. oip at 3; 17 c.f.r. \\xc2\\xa7\\xc2\\xa7 201.160(a)-(b),\\n.220(b).\\ni order that the hearing scheduled for august 29, 2016, is postponed and a\\ntelephonic prehearing conference shall be held at 3:30 p.m. edt on september 12, 2016. any\\nrespondent that fails to timely file an answer, appear at the prehearing conference, or otherwise\\ndefend the proceeding will be deemed in default and the registration of its securities will be\\nrevoked. oip at 3; 17 c.f.r. \\xc2\\xa7\\xc2\\xa7 201.155(a), .220(f), .221(f).\\n\\n_______________________________\\njames e. grimes\\nadministrative law judge\\n\\n\\x0c'"
      ]
     },
     "execution_count": 43,
     "metadata": {},
     "output_type": "execute_result"
    }
   ],
   "source": [
    "data['text'][0]"
   ]
  },
  {
   "cell_type": "code",
   "execution_count": 44,
   "metadata": {
    "collapsed": false
   },
   "outputs": [
    {
     "data": {
      "text/plain": [
       "'united states america securities exchange commission washington administrative proceedings rulings release august administrative proceeding file matter eastland financial corp granite cliffs incorporated greater asia realty holdings ltd order postponing hearing scheduling prehearing conference august securities exchange commission issued order instituting proceedings oip respondents pursuant section securities exchange act hearing scheduled commence august august division enforcement filed declaration service establishing respondents served oip postal service express mail august accordance rule practice ii ii respondents answers due august oip order hearing scheduled august postponed telephonic prehearing conference shall held edt september respondent fails timely file answer appear prehearing conference otherwise defend proceeding deemed default registration securities revoked oip james grimes administrative law judge'"
      ]
     },
     "execution_count": 44,
     "metadata": {},
     "output_type": "execute_result"
    }
   ],
   "source": [
    "data['text_clean'][0]"
   ]
  },
  {
   "cell_type": "code",
   "execution_count": 84,
   "metadata": {
    "collapsed": true
   },
   "outputs": [],
   "source": [
    "import sklearn as sk\n",
    "import scipy as sc\n",
    "import numpy as np\n",
    "from sklearn.feature_extraction.text import TfidfVectorizer"
   ]
  },
  {
   "cell_type": "code",
   "execution_count": 50,
   "metadata": {
    "collapsed": true
   },
   "outputs": [],
   "source": [
    "vectorizer = TfidfVectorizer(analyzer = \"word\",   \\\n",
    "                             tokenizer = None,    \\\n",
    "                             preprocessor = None, \\\n",
    "                             stop_words = None,   \\\n",
    "                             max_features = 5000)"
   ]
  },
  {
   "cell_type": "code",
   "execution_count": 55,
   "metadata": {
    "collapsed": false
   },
   "outputs": [],
   "source": [
    "train_data_features = vectorizer.fit_transform(data['text_clean'])"
   ]
  },
  {
   "cell_type": "code",
   "execution_count": 79,
   "metadata": {
    "collapsed": false
   },
   "outputs": [
    {
     "data": {
      "text/plain": [
       "<3676x5000 sparse matrix of type '<type 'numpy.float64'>'\n",
       "\twith 1615491 stored elements in Compressed Sparse Row format>"
      ]
     },
     "execution_count": 79,
     "metadata": {},
     "output_type": "execute_result"
    }
   ],
   "source": [
    "train_data_features"
   ]
  },
  {
   "cell_type": "code",
   "execution_count": 64,
   "metadata": {
    "collapsed": false
   },
   "outputs": [
    {
     "data": {
      "text/plain": [
       "(3676, 5000)"
      ]
     },
     "execution_count": 64,
     "metadata": {},
     "output_type": "execute_result"
    }
   ],
   "source": [
    "train_data_features.get_shape()"
   ]
  },
  {
   "cell_type": "code",
   "execution_count": 140,
   "metadata": {
    "collapsed": true
   },
   "outputs": [],
   "source": [
    "train_data_norm = sk.preprocessing.normalize(train_data_features,norm='l1')"
   ]
  },
  {
   "cell_type": "code",
   "execution_count": 141,
   "metadata": {
    "collapsed": false
   },
   "outputs": [],
   "source": [
    "train_data_np = train_data_norm.toarray()"
   ]
  },
  {
   "cell_type": "code",
   "execution_count": 143,
   "metadata": {
    "collapsed": false
   },
   "outputs": [
    {
     "data": {
      "text/plain": [
       "0.99999999999999922"
      ]
     },
     "execution_count": 143,
     "metadata": {},
     "output_type": "execute_result"
    }
   ],
   "source": [
    "sum(train_data_np[1])"
   ]
  },
  {
   "cell_type": "code",
   "execution_count": 102,
   "metadata": {
    "collapsed": false
   },
   "outputs": [
    {
     "name": "stdout",
     "output_type": "stream",
     "text": [
      "[u'aa', u'aaer', u'aaron', u'ab', u'aba', u'abcp', u'abetted', u'abetting', u'ability', u'able', u'abroad', u'abs', u'absence', u'absent', u'absolute', u'abuse', u'abuses', u'abusive', u'abx', u'ac', u'academic', u'accelerated', u'accept', u'acceptable', u'acceptance', u'accepted', u'accepting', u'access', u'accessed', u'accessible', u'accho', u'accommodate', u'accommodation', u'accompanied', u'accompanying', u'accomplish', u'accomplished', u'accord', u'accordance', u'according', u'accordingly', u'account', u'accountability', u'accountant', u'accountants', u'accounted', u'accountholder', u'accountholders', u'accounting', u'accounts', u'accredited', u'accrual', u'accrue', u'accrued', u'accumulated', u'accuracy', u'accurate', u'accurately', u'ach', u'achieve', u'achieved', u'achievement', u'achieving', u'acknowledge', u'acknowledged', u'acknowledges', u'acknowledgment', u'acquire', u'acquired', u'acquiring', u'acquisition', u'acquisitions', u'across', u'act', u'acted', u'acting', u'action', u'actions', u'active', u'actively', u'activities', u'activity', u'actor', u'actors', u'acts', u'actual', u'actually', u'ad', u'adams', u'add', u'added', u'adding', u'addition', u'additional', u'additionally', u'additions', u'address', u'addressed', u'addresses', u'addressing', u'adequacy', u'adequate', u'adequately', u'adhere', u'adjust', u'adjusted', u'adjustment', u'adjustments', u'admin', u'administer', u'administered', u'administering', u'administration', u'administrative', u'administrator', u'administrators', u'admission', u'admissions', u'admitted', u'admitting', u'adopt', u'adopted', u'adopting', u'adoption', u'adv', u'advance', u'advanced', u'advances', u'advantage', u'advantages', u'adverse', u'adversely', u'advertisement', u'advertisements', u'advertising', u'advice', u'advise', u'advised', u'adviser', u'advisers', u'advising', u'advisor', u'advisors', u'advisory', u'advocate', u'afc', u'aff', u'affairs', u'affect', u'affected', u'affecting', u'affiliate', u'affiliated', u'affiliates', u'affirmative', u'affirmed', u'afford', u'afforded', u'afr', u'africa', u'african', u'ag', u'age', u'agencies', u'agency', u'agenda', u'agent', u'agents', u'aggregate', u'aggregated', u'aggregating', u'aggregation', u'aggressive', u'ago', u'agree', u'agreed', u'agreeing', u'agreement', u'agreements', u'agrees', u'ai', u'aicpa', u'aid', u'aided', u'aiding', u'aids', u'aim', u'aimed', u'aims', u'air', u'airport', u'al', u'alabama', u'aladdin', u'alaska', u'albert', u'alert', u'alger', u'algorithm', u'align', u'aligned', u'alignment', u'alj', u'allegation', u'allegations', u'alleged', u'allegedly', u'alleges', u'alleging', u'allen', u'alliance', u'allocate', u'allocated', u'allocation', u'allocations', u'allow', u'allowance', u'allowances', u'allowed', u'allowing', u'allows', u'almost', u'alone', u'along', u'alpha', u'alphasector', u'already', u'also', u'alter', u'alternate', u'alternative', u'alternatively', u'alternatives', u'although', u'always', u'amend', u'amended', u'amending', u'amendment', u'amendments', u'america', u'american', u'ameriprise', u'amex', u'amicus', u'among', u'amortization', u'amortized', u'amount', u'amounted', u'amounts', u'amz', u'analyses', u'analysis', u'analyst', u'analysts', u'analytical', u'analyze', u'analyzed', u'analyzing', u'anc', u'ancillary', u'anddesist', u'anderson', u'andrew', u'angel', u'angeles', u'announced', u'announcement', u'annual', u'annualized', u'annually', u'annuities', u'annuity', u'anonymous', u'another', u'answer', u'answered', u'answers', u'anthony', u'anti', u'anticipate', u'anticipated', u'anticipates', u'anticipation', u'antifraud', u'anyone', u'anything', u'ap', u'api', u'app', u'apparent', u'appeal', u'appealed', u'appeals', u'appear', u'appearance', u'appeared', u'appearing', u'appears', u'appellant', u'appellants', u'appellate', u'appendix', u'applicability', u'applicable', u'applicant', u'applicants', u'application', u'applications', u'applied', u'applies', u'apply', u'applying', u'appoint', u'appointed', u'appointing', u'appointment', u'appointments', u'appraisal', u'appreciation', u'approach', u'approaches', u'appropriate', u'appropriately', u'appropriation', u'appropriations', u'approval', u'approve', u'approved', u'approving', u'approximate', u'approximately', u'apr', u'april', u'aq', u'ar', u'arbitrage', u'arbitration', u'arca', u'area', u'areas', u'argue', u'argued', u'argues', u'arguing', u'argument', u'arguments', u'arise', u'arises', u'arising', u'arizona', u'arkansas', u'arm', u'armt', u'arose', u'around', u'arp', u'arrange', u'arranged', u'arrangement', u'arrangements', u'arthur', u'article', u'articles', u'artifice', u'asc', u'ascertain', u'asf', u'asia', u'aside', u'ask', u'asked', u'asking', u'aspect', u'aspects', u'ass', u'assert', u'asserted', u'asserting', u'assertion', u'assess', u'assessed', u'assessing', u'assessment', u'assessments', u'asset', u'assets', u'assign', u'assigned', u'assignment', u'assignments', u'assist', u'assistance', u'assistant', u'assisted', u'assisting', u'associate', u'associated', u'associates', u'associating', u'association', u'associations', u'asst', u'asstt', u'assume', u'assumed', u'assumes', u'assuming', u'assumption', u'assumptions', u'assurance', u'assurances', u'assure', u'atlanta', u'ats', u'atss', u'attach', u'attached', u'attachment', u'attachments', u'attempt', u'attempted', u'attempting', u'attempts', u'attend', u'attendance', u'attended', u'attention', u'attestation', u'attorney', u'attorneys', u'attract', u'attractive', u'attributable', u'attributed', u'au', u'auction', u'audit', u'audited', u'auditing', u'auditor', u'auditors', u'audits', u'aug', u'august', u'aurum', u'authorised', u'authorities', u'authority', u'authorization', u'authorizations', u'authorize', u'authorized', u'authorizes', u'authorizing', u'auto', u'automated', u'automatic', u'automatically', u'automobile', u'avail', u'availability', u'available', u'ave', u'avenue', u'average', u'avoid', u'avoidance', u'avoided', u'avoiding', u'award', u'awarded', u'awards', u'aware', u'awareness', u'away', u'ba', u'back', u'backed', u'background', u'backloading', u'backup', u'bad', u'balance', u'balanced', u'balances', u'baltimore', u'bank', u'bankers', u'banking', u'bankruptcy', u'banks', u'bar', u'barclays', u'bargaining', u'barred', u'barriers', u'barring', u'bars', u'base', u'based', u'basel', u'baseline', u'basic', u'basis', u'basket', u'bats', u'bay', u'bb', u'bd', u'bds', u'beach', u'bear', u'bearing', u'became', u'becc', u'become', u'becomes', u'becoming', u'began', u'begin', u'beginning', u'begins', u'behalf', u'behavior', u'behaviour', u'behind', u'belief', u'believe', u'believed', u'believes', u'benchmark', u'beneficial', u'beneficially', u'beneficiaries', u'beneficiary', u'benefit', u'benefits', u'bennett', u'best', u'beta', u'better', u'beyond', u'bhc', u'bid', u'bidding', u'bids', u'big', u'bilateral', u'bill', u'billion', u'bills', u'binding', u'bit', u'black', u'blackrock', u'blank', u'bldg', u'block', u'blue', u'blvd', u'boa', u'board', u'boards', u'bodies', u'body', u'bona', u'bond', u'bondholders', u'bonds', u'bonus', u'bonuses', u'book', u'books', u'border', u'borne', u'borrow', u'borrowed', u'borrower', u'borrowers', u'borrowing', u'borrowings', u'boston', u'bought', u'boulevard', u'bound', u'box', u'br', u'branch', u'branches', u'breach', u'break', u'brenda', u'brent', u'brian', u'bribery', u'bridge', u'brief', u'briefing', u'briefly', u'briefs', u'bright', u'bring', u'bringing', u'brings', u'british', u'broad', u'broader', u'broadly', u'brochure', u'brogdon', u'broker', u'brokerage', u'brokerdealer', u'brokerdealers', u'brokers', u'brought', u'brown', u'bssc', u'bt', u'budget', u'budgetary', u'buffer', u'build', u'building', u'built', u'bulk', u'bulletin', u'bunched', u'burden', u'burdens', u'burdensome', u'bureau', u'business', u'businesses', u'buy', u'buyer', u'buyers', u'buying', u'ca', u'cal', u'calculate', u'calculated', u'calculating', u'calculation', u'calculations', u'calendar', u'california', u'call', u'called', u'calling', u'calls', u'calugar', u'came', u'cameron', u'camp', u'campaign', u'campus', u'canada', u'canadian', u'cancel', u'cancellation', u'cancelled', u'candidate', u'candidates', u'cannot', u'cap', u'capabilities', u'capability', u'capable', u'capacities', u'capacity', u'capital', u'capitalization', u'capture', u'card', u'cards', u'care', u'career', u'careful', u'carefully', u'carol', u'carolina', u'carried', u'carry', u'carrying', u'case', u'cases', u'cash', u'cashier', u'categories', u'category', u'cause', u'caused', u'causes', u'causing', u'cboe', u'cc', u'cca', u'ccm', u'cco', u'ccp', u'ccps', u'cd', u'cdo', u'cdos', u'cds', u'cdsclear', u'ce', u'cea', u'cease', u'ceaseand', u'ceased', u'cen', u'censure', u'censured', u'cent', u'center', u'centers', u'central', u'cents', u'century', u'ceo', u'cert', u'certain', u'certainty', u'certificate', u'certificates', u'certification', u'certifications', u'certified', u'certify', u'certifying', u'certiorari', u'cf', u'cfa', u'cfira', u'cfo', u'cfr', u'cftc', u'cg', u'ch', u'chain', u'chair', u'chairman', u'chairperson', u'challenge', u'challenges', u'chamber', u'change', u'changed', u'changes', u'changing', u'channels', u'chapter', u'character', u'characteristics', u'characterized', u'charge', u'charged', u'charges', u'charging', u'charles', u'chart', u'charter', u'chau', u'check', u'checks', u'chicago', u'chief', u'child', u'children', u'china', u'chinese', u'choice', u'choices', u'choose', u'chosen', u'christopher', u'ci', u'cik', u'cincinnati', u'cio', u'cir', u'circuit', u'circular', u'circumstance', u'circumstances', u'citation', u'cited', u'cities', u'citigroup', u'citing', u'citizen', u'citizens', u'city', u'civ', u'civil', u'cl', u'claim', u'claimant', u'claimants', u'claimed', u'claiming', u'claims', u'clarification', u'clarify', u'clarifying', u'clarity', u'clarke', u'class', u'classes', u'classification', u'classifications', u'classified', u'classify', u'clause', u'clauses', u'clear', u'clearance', u'cleared', u'clearing', u'clearly', u'clearnet', u'clerk', u'client', u'clients', u'climate', u'clinic', u'clo', u'close', u'closed', u'closely', u'closing', u'clug', u'cmbs', u'co', u'coal', u'coast', u'code', u'codes', u'codified', u'cohen', u'collateral', u'collateralized', u'colleagues', u'collect', u'collected', u'collecting', u'collection', u'collections', u'collective', u'collectively', u'college', u'colo', u'colorado', u'columbia', u'column', u'com', u'combination', u'combinations', u'combined', u'come', u'comes', u'coming', u'comm', u'command', u'commanding', u'commence', u'commenced', u'commencement', u'commencing', u'comment', u'commenter', u'commenters', u'comments', u'commerce', u'commercial', u'commission', u'commissioner', u'commissioners', u'commissions', u'commit', u'commitment', u'commitments', u'committed', u'committee', u'committees', u'committing', u'commodities', u'commodity', u'common', u'commonly', u'commonwealth', u'communicate', u'communicated', u'communication', u'communications', u'communities', u'community', u'comp', u'companies', u'company', u'comparability', u'comparable', u'comparative', u'compare', u'compared', u'comparing', u'comparison', u'compensate', u'compensated', u'compensation', u'compensatory', u'compete', u'competence', u'competencies', u'competency', u'competent', u'competing', u'competition', u'competitive', u'competitors', u'compiled', u'complainant', u'complaint', u'complaints', u'complete', u'completed', u'completely', u'completing', u'completion', u'complex', u'complexes', u'complexity', u'compliance', u'complied', u'complies', u'comply', u'complying', u'component', u'components', u'composed', u'composition', u'comprehensive', u'compression', u'comprised', u'compromise', u'comptroller', u'computation', u'computed', u'computer', u'computing', u'con', u'conceal', u'concentrated', u'concentration', u'concept', u'concepts', u'concern', u'concerned', u'concerning', u'concerns', u'concert', u'conclude', u'concluded', u'conclusion', u'conclusions', u'condition', u'conditional', u'conditioned', u'conditions', u'conduct', u'conducted', u'conducting', u'conducts', u'conduit', u'confer', u'conference', u'conferences', u'confidence', u'confidential', u'confidentiality', u'confirm', u'confirmation', u'confirmations', u'confirmed', u'conflict', u'conflicting', u'conflicts', u'conform', u'conforming', u'conformity', u'confusion', u'cong', u'congress', u'congressional', u'conjunction', u'connected', u'connecticut', u'connection', u'consecutive', u'consent', u'consented', u'consents', u'consequence', u'consequences', u'consequently', u'conservative', u'consider', u'considerable', u'consideration', u'considerations', u'considered', u'considering', u'considers', u'consist', u'consisted', u'consistency', u'consistent', u'consistently', u'consisting', u'consists', u'consolidated', u'consolidation', u'conspiracy', u'constitute', u'constituted', u'constitutes', u'constituting', u'constitution', u'constitutional', u'construction', u'construed', u'consult', u'consultant', u'consultants', u'consultation', u'consulting', u'consumer', u'consumers', u'consummated', u'contact', u'contacted', u'contain', u'contained', u'containing', u'contains', u'contemplated', u'contemporaneous', u'contempt', u'contended', u'content', u'contention', u'contents', u'contest', u'contested', u'contests', u'context', u'contexts', u'continental', u'contingency', u'contingent', u'continuation', u'continue', u'continued', u'continues', u'continuing', u'continuity', u'continuous', u'contract', u'contractor', u'contractors', u'contracts', u'contractual', u'contrary', u'contrast', u'contribute', u'contributed', u'contribution', u'contributions', u'control', u'controlled', u'controller', u'controlling', u'controls', u'convened', u'convention', u'conversion', u'convert', u'converted', u'convertible', u'convicted', u'conviction', u'convictions', u'cooper', u'cooperate', u'cooperation', u'cooperative', u'coordinate', u'coordinated', u'coordination', u'coordinator', u'copies', u'copy', u'copying', u'core', u'corp', u'corporate', u'corporation', u'corporations', u'corps', u'correct', u'corrected', u'corrective', u'correctly', u'correspondence', u'correspondent', u'corresponding', u'corresponds', u'corrupt', u'corruption', u'cost', u'costly', u'costs', u'could', u'council', u'counsel', u'counseling', u'count', u'counted', u'counter', u'counterparties', u'counterparty', u'countries', u'country', u'counts', u'county', u'course', u'courses', u'court', u'courts', u'cover', u'coverage', u'covered', u'covering', u'covers', u'cpa', u'cq', u'cr', u'crd', u'create', u'created', u'creates', u'creating', u'creation', u'credit', u'credited', u'creditor', u'creditors', u'credits', u'crime', u'criminal', u'crisis', u'criteria', u'critical', u'cross', u'crow', u'crowdfunding', u'crown', u'csc', u'csd', u'cse', u'csmc', u'csr', u'cstr', u'ct', u'cty', u'cuck', u'cultural', u'culture', u'cumulative', u'curb', u'cure', u'curiae', u'currencies', u'currency', u'current', u'currently', u'custodial', u'custodian', u'custodians', u'custody', u'customer', u'customers', u'cut', u'cv', u'cycle', u'daily', u'dakota', u'damage', u'damages', u'damasco', u'daniel', u'daspin', u'data', u'database', u'date', u'dated', u'dates', u'david', u'davis', u'day', u'days', u'dbrs', u'dbsi', u'dc', u'dd', u'ddr', u'de', u'dea', u'deadline', u'deadlines', u'deal', u'dealer', u'dealers', u'dealing', u'dealings', u'deals', u'dealt', u'dean', u'death', u'debenture', u'debentures', u'debit', u'debt', u'debtor', u'debtors', u'dec', u'deceit', u'december', u'deceptive', u'decide', u'decided', u'deciding', u'decision', u'decisions', u'decl', u'declaration', u'declarations', u'declare', u'declared', u'decline', u'declined', u'declines', u'decrease', u'decreased', u'decree', u'dedicated', u'deduction', u'deductions', u'deem', u'deemed', u'deems', u'default', u'defaulting', u'defaults', u'defend', u'defendant', u'defendants', u'defense', u'defenses', u'defer', u'deferral', u'deferred', u'deficiencies', u'deficiency', u'deficient', u'define', u'defined', u'defines', u'defining', u'definition', u'definitions', u'definitive', u'defraud', u'defrauded', u'degree', u'del', u'delaney', u'delaware', u'delay', u'delayed', u'delaying', u'delays', u'delegate', u'delegated', u'delete', u'delinquency', u'delinquent', u'deliver', u'delivered', u'delivering', u'delivery', u'delta', u'demand', u'demands', u'dembski', u'demonstrate', u'demonstrated', u'demonstrates', u'denial', u'denied', u'denver', u'deny', u'denying', u'department', u'departmental', u'departments', u'depend', u'dependent', u'depending', u'depends', u'deposit', u'deposited', u'deposition', u'depositions', u'depositor', u'depository', u'deposits', u'depreciation', u'depth', u'depts', u'deputy', u'dera', u'derivative', u'derivatives', u'derived', u'describe', u'described', u'describes', u'describing', u'description', u'descriptions', u'design', u'designate', u'designated', u'designating', u'designation', u'designed', u'designee', u'desirable', u'desire', u'desired', u'desist', u'desk', u'despite', u'detail', u'detailed', u'details', u'detect', u'detection', u'deter', u'determination', u'determinations', u'determine', u'determined', u'determines', u'determining', u'deterrent', u'detroit', u'deutsche', u'develop', u'developed', u'developing', u'development', u'developments', u'device', u'devices', u'dfk', u'dial', u'dialogue', u'differ', u'difference', u'differences', u'different', u'differently', u'differs', u'difficult', u'difficulties', u'difficulty', u'digital', u'diligence', u'dilution', u'direct', u'directed', u'directing', u'direction', u'directive', u'directives', u'directly', u'director', u'directorate', u'directors', u'directory', u'directs', u'disability', u'disadvantage', u'disagree', u'disaster', u'disbursement', u'discharge', u'disciplinary', u'discipline', u'disclose', u'disclosed', u'discloses', u'disclosing', u'disclosure', u'disclosures', u'discount', u'discounts', u'discovered', u'discovery', u'discretion', u'discretionary', u'discrimination', u'discriminatory', u'discuss', u'discussed', u'discusses', u'discussing', u'discussion', u'discussions', u'disgorge', u'disgorgement', u'dismiss', u'dismissal', u'dismissed', u'display', u'displayed', u'dispose', u'disposed', u'disposition', u'dispute', u'disputes', u'disqualification', u'disqualified', u'disraeli', u'disregard', u'disruption', u'disruptions', u'disseminate', u'disseminated', u'disseminating', u'dissemination', u'dissident', u'dissidents', u'dissolution', u'dist', u'distinct', u'distinction', u'distinguish', u'distributable', u'distribute', u'distributed', u'distributing', u'distribution', u'distributions', u'distributor', u'district', u'districts', u'div', u'diverse', u'diversification', u'diversified', u'diversity', u'divided', u'dividend', u'dividends', u'division', u'divisions', u'doc', u'docket', u'document', u'documentation', u'documented', u'documents', u'docx', u'dodd', u'doj', u'dollar', u'dollars', u'domestic', u'domicile', u'domiciled', u'domin', u'donald', u'done', u'doubt', u'douglas', u'downward', u'doxey', u'dr', u'draft', u'drafted', u'drafting', u'draw', u'drawn', u'dreyfus', u'drive', u'driven', u'drp', u'drug', u'dtc', u'dtcc', u'dual', u'due', u'duly', u'dunng', u'duplicate', u'duplication', u'duplicative', u'duration', u'duties', u'duty', u'dy', u'dynamic', u'earlier', u'early', u'earn', u'earned', u'earnings', u'ease', u'easier', u'easily', u'east', u'eastern', u'easy', u'eb', u'ec', u'ecf', u'economic', u'economically', u'economics', u'economy', u'ed', u'edgar', u'edgarlink', u'edison', u'edt', u'edu', u'education', u'educational', u'edward', u'ee', u'effect', u'effected', u'effecting', u'effective', u'effectively', u'effectiveness', u'effects', u'effectuate', u'efficiency', u'efficient', u'efficiently', u'effort', u'efforts', u'egregious', u'ei', u'eight', u'eighth', u'either', u'eiti', u'el', u'elect', u'elected', u'election', u'elections', u'electric', u'electronic', u'electronically', u'element', u'elements', u'eligibility', u'eligible', u'eliminate', u'eliminated', u'eliminating', u'elimination', u'elizabeth', u'elliot', u'else', u'elsewhere', u'email', u'emailed', u'emails', u'emergency', u'emerging', u'emissions', u'emma', u'emphasis', u'emphasized', u'empirical', u'employ', u'employed', u'employee', u'employees', u'employer', u'employers', u'employing', u'employment', u'empowered', u'en', u'enable', u'enables', u'enabling', u'enacted', u'enactment', u'encompass', u'encourage', u'encouraged', u'encourages', u'encouraging', u'end', u'ended', u'ending', u'energy', u'enforce', u'enforced', u'enforcement', u'enforcing', u'engage', u'engaged', u'engagement', u'engagements', u'engages', u'engaging', u'engine', u'engineer', u'engineering', u'engineers', u'england', u'english', u'enhance', u'enhanced', u'enhancement', u'enhancements', u'enhancing', u'enjoin', u'enjoined', u'enjoining', u'enough', u'ensure', u'ensures', u'ensuring', u'enter', u'entered', u'entering', u'enterprise', u'enterprises', u'enters', u'entertainment', u'entire', u'entirely', u'entities', u'entitled', u'entitlement', u'entity', u'entries', u'entry', u'enumerated', u'environment', u'environmental', u'eo', u'epa', u'equal', u'equally', u'equipment', u'equitable', u'equities', u'equity', u'equivalent', u'equivalents', u'er', u'eric', u'erisa', u'ernst', u'erroneous', u'error', u'errors', u'es', u'escrow', u'especially', u'esq', u'essential', u'essentially', u'establish', u'established', u'establishes', u'establishing', u'establishment', u'estate', u'estimate', u'estimated', u'estimates', u'estimating', u'et', u'etc', u'etf', u'etfs', u'ethical', u'ethics', u'etp', u'etps', u'eu', u'eur', u'euro', u'euroclear', u'europe', u'european', u'evaluate', u'evaluated', u'evaluating', u'evaluation', u'evans', u'evasion', u'even', u'event', u'events', u'eventually', u'ever', u'evergreen', u'every', u'everyone', u'evidence', u'ex', u'exact', u'exam', u'examination', u'examinations', u'examine', u'examined', u'examiner', u'examiners', u'examining', u'example', u'examples', u'exceed', u'exceeded', u'exceeding', u'exceeds', u'except', u'exception', u'exceptions', u'excess', u'excessive', u'exchange', u'exchanges', u'exclude', u'excluded', u'excludes', u'excluding', u'exclusion', u'exclusions', u'exclusive', u'exclusively', u'execute', u'executed', u'executing', u'execution', u'executive', u'executives', u'exempt', u'exempted', u'exempting', u'exemption', u'exemptions', u'exemptive', u'exempts', u'exercise', u'exercised', u'exercising', u'exhibit', u'exhibits', u'exist', u'existed', u'existence', u'existing', u'exists', u'exit', u'expand', u'expanded', u'expanding', u'expansion', u'expect', u'expectation', u'expectations', u'expected', u'expects', u'expenditures', u'expense', u'expenses', u'experience', u'experienced', u'experiences', u'expert', u'expertise', u'experts', u'expiration', u'expired', u'explain', u'explained', u'explaining', u'explanation', u'explicit', u'explicitly', u'exploration', u'explorations', u'exposed', u'exposure', u'exposures', u'express', u'expressed', u'expressing', u'expressly', u'expulsion', u'exs', u'ext', u'extend', u'extended', u'extending', u'extension', u'extensions', u'extensive', u'extent', u'external', u'extra', u'extraction', u'extraordinary', u'extreme', u'extremely', u'ey', u'face', u'faced', u'facilitate', u'facilitating', u'facilities', u'facility', u'facing', u'facsimile', u'fact', u'factor', u'factors', u'facts', u'factual', u'factually', u'faculty', u'fail', u'failed', u'failing', u'fails', u'failure', u'failures', u'fair', u'fairly', u'fairness', u'faith', u'fall', u'falls', u'false', u'falsely', u'familiar', u'families', u'family', u'far', u'fargo', u'fasb', u'fashion', u'faulkner', u'favor', u'favorable', u'fax', u'fb', u'fcm', u'fcpa', u'fd', u'fdic', u'fe', u'feasibility', u'feasible', u'feature', u'features', u'feb', u'february', u'fed', u'federal', u'federated', u'federation', u'fedwire', u'fee', u'feedback', u'feel', u'fees', u'fell', u'felony', u'fewer', u'fh', u'fi', u'fia', u'fictitious', u'fide', u'fidelity', u'fiduciaries', u'fiduciary', u'field', u'fields', u'fifteen', u'fifth', u'figure', u'figures', u'file', u'filed', u'filer', u'filers', u'files', u'filing', u'filings', u'fill', u'filled', u'fin', u'final', u'finality', u'finally', u'finance', u'financial', u'financials', u'financing', u'find', u'finder', u'finding', u'findings', u'finds', u'fine', u'fined', u'fines', u'finra', u'fire', u'firm', u'firms', u'first', u'fiscal', u'fit', u'fitch', u'five', u'fixed', u'fl', u'fla', u'flags', u'flexibility', u'flexible', u'float', u'floating', u'floor', u'florida', u'flow', u'flows', u'flt', u'focus', u'focused', u'focuses', u'focusing', u'foelak', u'foia', u'follow', u'followed', u'following', u'follows', u'food', u'footnote', u'footnotes', u'force', u'forced', u'forces', u'foreclosure', u'foregoing', u'foreign', u'foreseeable', u'forex', u'forfeiture', u'form', u'forma', u'formal', u'format', u'formation', u'formats', u'formed', u'former', u'formerly', u'forms', u'formula', u'formulation', u'fort', u'fortenberry', u'forth', u'forthwith', u'forty', u'forum', u'forward', u'forwarded', u'foster', u'found', u'foundation', u'founded', u'founder', u'founders', u'four', u'fourth', u'fox', u'fr', u'fraction', u'framework', u'francisco', u'frank', u'franklin', u'franz', u'fraud', u'frauds', u'fraudulent', u'fraudulently', u'free', u'freedom', u'french', u'frequency', u'frequent', u'frequently', u'friend', u'front', u'fsoc', u'fspm', u'fsr', u'ft', u'fuel', u'fulfill', u'full', u'fully', u'function', u'functional', u'functionality', u'functioning', u'functions', u'fund', u'fundamental', u'funded', u'funding', u'funds', u'furnish', u'furnished', u'furtherance', u'furthermore', u'future', u'futures', u'fy', u'ga', u'gaap', u'gain', u'gains', u'galanis', u'gamma', u'gao', u'gap', u'gary', u'gas', u'gate', u'gates', u'gathering', u'gave', u'gender', u'general', u'generally', u'generate', u'generated', u'generating', u'geographic', u'george', u'georgia', u'get', u'getting', u'gg', u'gibson', u'gift', u'gifts', u'gilardi', u'give', u'given', u'giver', u'gives', u'giving', u'gj', u'global', u'glossary', u'gmrit', u'go', u'goal', u'goals', u'going', u'gold', u'goldman', u'gonnella', u'good', u'goods', u'got', u'gotten', u'gov', u'govern', u'governance', u'governed', u'governing', u'government', u'governmental', u'governments', u'governors', u'governs', u'grade', u'graduate', u'graham', u'grand', u'grant', u'granted', u'granting', u'grants', u'gray', u'great', u'greater', u'greatest', u'greatly', u'green', u'gregory', u'gri', u'grievance', u'grimes', u'gross', u'grossman', u'ground', u'grounds', u'group', u'groups', u'grove', u'growing', u'growth', u'gs', u'guarantee', u'guaranteed', u'guarantees', u'guarantor', u'guaranty', u'guidance', u'guide', u'guidelines', u'guides', u'guilty', u'half', u'hall', u'hampshire', u'hand', u'handbook', u'handle', u'handled', u'handling', u'harassment', u'harbor', u'hard', u'harding', u'harm', u'harmed', u'harvey', u'head', u'heading', u'headquartered', u'headquarters', u'health', u'heard', u'hearing', u'hearings', u'heat', u'heavily', u'heavy', u'hedge', u'hedging', u'heightened', u'held', u'help', u'helped', u'helpful', u'helping', u'helps', u'hence', u'hereby', u'herein', u'hereinafter', u'hereof', u'hi', u'hierarchy', u'high', u'higher', u'highest', u'highlighted', u'highly', u'hill', u'hire', u'hired', u'hiring', u'historical', u'historically', u'history', u'hiv', u'hold', u'holder', u'holders', u'holding', u'holdings', u'holds', u'holiday', u'home', u'honolulu', u'horizontal', u'hospital', u'host', u'hotel', u'hour', u'hourly', u'hours', u'house', u'housing', u'howard', u'however', u'hp', u'hq', u'hr', u'hrm', u'hst', u'htm', u'html', u'http', u'https', u'hudson', u'hughes', u'human', u'hundred', u'hundreds', u'huntington', u'hwy', u'hypothetical', u'ia', u'iaa', u'ias', u'ic', u'ice', u'ici', u'id', u'idaho', u'idc', u'idea', u'ideas', u'identical', u'identifiable', u'identification', u'identified', u'identifier', u'identifies', u'identify', u'identifying', u'identity', u'ids', u'ie', u'iex', u'ii', u'iib', u'iii', u'ij', u'il', u'ill', u'illegal', u'illinois', u'illiquid', u'illness', u'ilo', u'im', u'immaterial', u'immediate', u'immediately', u'impact', u'impacted', u'impacts', u'impair', u'impaired', u'impairment', u'implement', u'implementation', u'implemented', u'implementing', u'implications', u'implied', u'importance', u'important', u'impose', u'imposed', u'imposes', u'imposing', u'imposition', u'impossible', u'imprisonment', u'improper', u'improperly', u'improve', u'improved', u'improvement', u'improvements', u'improving', u'inability', u'inaccurate', u'inactive', u'inadequate', u'inappropriate', u'inc', u'incentive', u'incentives', u'inception', u'incident', u'incidental', u'include', u'included', u'includes', u'including', u'inclusion', u'inclusive', u'income', u'incomplete', u'inconsistent', u'incorporate', u'incorporated', u'incorporates', u'incorporating', u'incorporation', u'incorrect', u'increase', u'increased', u'increases', u'increasing', u'increasingly', u'incremental', u'incur', u'incurred', u'indebtedness', u'indeed', u'indemnification', u'indenture', u'indentures', u'independence', u'independent', u'independently', u'index', u'indexes', u'india', u'indiana', u'indicate', u'indicated', u'indicates', u'indicating', u'indication', u'indicator', u'indicators', u'indictment', u'indictments', u'indirect', u'indirectly', u'individual', u'individually', u'individuals', u'induce', u'induced', u'inducing', u'industrial', u'industries', u'industry', u'inflated', u'inflation', u'influence', u'influenced', u'info', u'inform', u'informal', u'information', u'informational', u'informed', u'infra', u'infrastructure', u'ing', u'inherent', u'initial', u'initially', u'initiate', u'initiated', u'initiative', u'initiatives', u'injunction', u'injunctions', u'injunctive', u'injured', u'injury', u'innovation', u'input', u'inputs', u'inquiries', u'inquiry', u'inserting', u'inside', u'insider', u'insiders', u'insofar', u'insolvency', u'insolvent', u'inspection', u'inspections', u'inspector', u'instance', u'instances', u'instead', u'institute', u'instituted', u'instituting', u'institution', u'institutional', u'institutions', u'instructed', u'instruction', u'instructions', u'instrument', u'instrumentalities', u'instrumentality', u'instruments', u'insufficient', u'insurance', u'insure', u'insured', u'int', u'integral', u'integrated', u'integration', u'integrity', u'intelligence', u'intend', u'intended', u'intends', u'intent', u'intention', u'intentionally', u'inter', u'interactive', u'interest', u'interested', u'interests', u'interim', u'intermediaries', u'intermediary', u'intermediate', u'internal', u'internally', u'international', u'internet', u'interpret', u'interpretation', u'interpretations', u'interpreted', u'interpretive', u'interstate', u'interview', u'interviews', u'intraday', u'intrastate', u'introduce', u'introduced', u'introducing', u'introduction', u'inventory', u'invesco', u'invest', u'invested', u'investigate', u'investigation', u'investigations', u'investigative', u'investing', u'investment', u'investments', u'investor', u'investors', u'invests', u'invited', u'involve', u'involved', u'involvement', u'involves', u'involving', u'io', u'iosco', u'iowa', u'ipo', u'ir', u'ira', u'irc', u'irs', u'isda', u'ise', u'island', u'islands', u'isolated', u'issuance', u'issuances', u'issue', u'issued', u'issuer', u'issuers', u'issues', u'issuing', u'item', u'items', u'iv', u'ix', u'ja', u'jackson', u'jacob', u'james', u'jan', u'january', u'japan', u'jason', u'jeffrey', u'jersey', u'job', u'jobs', u'john', u'johnson', u'joined', u'joining', u'joint', u'jointly', u'jonathan', u'jones', u'joseph', u'journal', u'jpmorgan', u'jr', u'judge', u'judges', u'judgment', u'judgments', u'judicial', u'july', u'june', u'junior', u'jurisdiction', u'jurisdictions', u'jury', u'justice', u'justification', u'justified', u'justify', u'kansas', u'kaplan', u'keep', u'keeping', u'kenneth', u'kentucky', u'kept', u'kevin', u'key', u'kind', u'kinds', u'king', u'kingdom', u'knew', u'know', u'knowing', u'knowingly', u'knowledge', u'known', u'knows', u'kpboit', u'kpmg', u'ks', u'kumar', u'la', u'lab', u'labine', u'labor', u'labour', u'lack', u'lacked', u'lake', u'lan', u'land', u'lane', u'language', u'large', u'largely', u'larger', u'largest', u'las', u'last', u'late', u'later', u'latest', u'latter', u'law', u'lawrence', u'laws', u'lawyer', u'lawyers', u'lc', u'lch', u'lead', u'leader', u'leaders', u'leadership', u'leading', u'leads', u'learn', u'learned', u'learning', u'lease', u'leases', u'least', u'leave', u'leaves', u'leaving', u'led', u'ledger', u'lee', u'left', u'legal', u'legally', u'legg', u'legislation', u'legislative', u'legitimate', u'lei', u'lender', u'lenders', u'lending', u'length', u'less', u'lesser', u'let', u'letter', u'letters', u'level', u'levels', u'leverage', u'leveraged', u'levin', u'lex', u'lexis', u'li', u'liabilities', u'liability', u'liable', u'liaison', u'library', u'license', u'licensed', u'licenses', u'licensing', u'lien', u'lieu', u'life', u'lifelock', u'lifeplan', u'light', u'lighthouse', u'like', u'likelihood', u'likely', u'likewise', u'limit', u'limitation', u'limitations', u'limited', u'limiting', u'limits', u'line', u'lines', u'link', u'linked', u'links', u'liquid', u'liquidate', u'liquidated', u'liquidation', u'liquidity', u'lisa', u'list', u'listed', u'listing', u'listings', u'lists', u'literature', u'litigation', u'little', u'living', u'llc', u'llp', u'lnc', u'lnm', u'lo', u'load', u'loan', u'loaned', u'loans', u'lob', u'local', u'locate', u'located', u'location', u'locations', u'london', u'long', u'longer', u'look', u'looking', u'los', u'lose', u'loss', u'losses', u'lost', u'lot', u'louis', u'louisiana', u'low', u'lower', u'lowest', u'lp', u'lq', u'lr', u'lt', u'ltd', u'lynch', u'macarthur', u'machine', u'made', u'magnetar', u'magnitude', u'mail', u'mailed', u'mailing', u'mails', u'main', u'maint', u'maintain', u'maintained', u'maintaining', u'maintains', u'maintenance', u'major', u'majority', u'make', u'maker', u'makers', u'makes', u'making', u'malouf', u'man', u'manage', u'managed', u'management', u'manager', u'managerial', u'managers', u'managing', u'mandate', u'mandated', u'mandatory', u'manifest', u'manipulation', u'manipulative', u'manner', u'manual', u'manually', u'manufacturing', u'many', u'mar', u'march', u'margin', u'marine', u'mark', u'marked', u'market', u'marketable', u'marketing', u'marketplace', u'markets', u'markit', u'marks', u'martin', u'mary', u'maryland', u'mason', u'mass', u'massachusetts', u'master', u'match', u'matched', u'matching', u'material', u'materiality', u'materially', u'materials', u'matrix', u'matter', u'matters', u'matthew', u'maturity', u'maximum', u'may', u'md', u'mean', u'meaning', u'meaningful', u'means', u'meant', u'measure', u'measured', u'measurement', u'measurements', u'measures', u'measuring', u'mechanism', u'mechanisms', u'media', u'median', u'medical', u'medium', u'meet', u'meeting', u'meetings', u'meets', u'mellon', u'member', u'members', u'membership', u'memo', u'memoranda', u'memorandum', u'ment', u'mental', u'mentioned', u'mercury', u'merely', u'merged', u'merger', u'mergers', u'merit', u'merits', u'merrill', u'message', u'messages', u'met', u'method', u'methodologies', u'methodology', u'methods', u'metric', u'metrics', u'mexico', u'mez', u'mfa', u'mfp', u'mfs', u'mgmt', u'mhr', u'miami', u'michael', u'michigan', u'mid', u'middle', u'midwest', u'might', u'military', u'millennium', u'miller', u'million', u'millions', u'mind', u'mine', u'mineral', u'minerals', u'mines', u'minimal', u'minimis', u'minimize', u'minimum', u'mining', u'minnesota', u'minor', u'minority', u'minutes', u'misappropriated', u'misappropriation', u'miscellaneous', u'misconduct', u'misleading', u'misrepresentation', u'misrepresentations', u'misrepresented', u'missing', u'mission', u'missouri', u'misstatement', u'misstatements', u'misuse', u'mitigate', u'mitigated', u'mitigating', u'mitigation', u'mix', u'mixed', u'ml', u'mm', u'mo', u'model', u'models', u'modernization', u'modification', u'modifications', u'modified', u'modify', u'modifying', u'monday', u'monetary', u'money', u'monies', u'monitor', u'monitored', u'monitoring', u'month', u'monthly', u'months', u'moody', u'moore', u'moreover', u'morgan', u'morning', u'morningstar', u'mortgage', u'mortgages', u'motion', u'motions', u'motivation', u'motor', u'mou', u'move', u'moved', u'movement', u'movements', u'moving', u'mr', u'ms', u'msbsp', u'msbsps', u'msrb', u'mu', u'much', u'multi', u'multiple', u'multiplied', u'municipal', u'municipalities', u'murphy', u'murray', u'must', u'mutual', u'na', u'name', u'named', u'namely', u'names', u'narrative', u'narrow', u'nas', u'nasaa', u'nasd', u'nasdaq', u'nation', u'national', u'nationally', u'natural', u'nature', u'nav', u'naval', u'navistar', u'nc', u'nd', u'ne', u'near', u'nearly', u'necessarily', u'necessary', u'necessity', u'need', u'needed', u'needs', u'negative', u'negatively', u'negligence', u'negligent', u'negotiate', u'negotiated', u'negotiating', u'negotiation', u'negotiations', u'neither', u'net', u'netting', u'network', u'nevada', u'never', u'nevertheless', u'new', u'newly', u'news', u'next', u'ng', u'nicnet', u'nine', u'ninth', u'nm', u'nms', u'nn', u'nominal', u'nominee', u'nominees', u'non', u'nonbank', u'noncompliance', u'none', u'nonetheless', u'nonpublic', u'nonresident', u'normal', u'normally', u'north', u'northern', u'nos', u'note', u'noted', u'notes', u'nothing', u'notice', u'notices', u'notification', u'notifications', u'notified', u'notify', u'noting', u'notional', u'notwithstanding', u'nov', u'novation', u'november', u'nr', u'nrsro', u'nrsros', u'nscc', u'number', u'numbers', u'numerous', u'nv', u'nw', u'ny', u'nyse', u'object', u'objected', u'objection', u'objections', u'objective', u'objectives', u'obligated', u'obligation', u'obligations', u'obligor', u'obligors', u'observations', u'observe', u'observed', u'obtain', u'obtained', u'obtaining', u'oc', u'occ', u'occasions', u'occupational', u'occupy', u'occur', u'occurred', u'occurrence', u'occurring', u'occurs', u'och', u'ocie', u'oct', u'octans', u'october', u'od', u'odd', u'oecd', u'offer', u'offered', u'offering', u'offerings', u'offers', u'office', u'officer', u'officers', u'offices', u'official', u'officials', u'offset', u'offsetting', u'offshore', u'ofm', u'often', u'ofthe', u'ohio', u'oi', u'oic', u'oil', u'oip', u'oj', u'ok', u'oklahoma', u'ol', u'old', u'oliver', u'omb', u'omission', u'omissions', u'omit', u'omitted', u'omnibus', u'one', u'ones', u'ongoing', u'online', u'oo', u'oommission', u'oompany', u'ooo', u'oorp', u'op', u'opd', u'open', u'opened', u'opening', u'operate', u'operated', u'operates', u'operating', u'operation', u'operational', u'operations', u'operator', u'operators', u'opinion', u'opinions', u'oppenheimer', u'opportunities', u'opportunity', u'opposed', u'opposition', u'opr', u'ops', u'opt', u'option', u'optional', u'options', u'optionsxpress', u'oral', u'order', u'ordered', u'ordering', u'orderly', u'orders', u'ordinarily', u'ordinary', u'org', u'organisation', u'organization', u'organizational', u'organizations', u'organized', u'orientation', u'original', u'originally', u'originated', u'origination', u'originator', u'originators', u'os', u'ot', u'otc', u'others', u'otherwise', u'outcome', u'outcomes', u'outlined', u'outreach', u'outside', u'outstanding', u'overall', u'overlap', u'overlapping', u'overseas', u'oversee', u'overseeing', u'oversight', u'overstated', u'overtime', u'overview', u'owed', u'owned', u'owner', u'owners', u'ownership', u'owns', u'oxford', u'oxley', u'pa', u'pab', u'pacific', u'pack', u'package', u'page', u'pageid', u'pages', u'paid', u'pair', u'panama', u'panel', u'paper', u'papers', u'paperwork', u'par', u'paragraph', u'paragraphs', u'parallel', u'parameters', u'parent', u'parents', u'parish', u'park', u'part', u'partial', u'partially', u'participant', u'participants', u'participate', u'participated', u'participates', u'participating', u'participation', u'particular', u'particularly', u'parties', u'partner', u'partners', u'partnership', u'partnerships', u'parts', u'party', u'pass', u'passed', u'passim', u'past', u'path', u'patil', u'pattern', u'patterns', u'paul', u'pay', u'payable', u'paying', u'payment', u'payments', u'payroll', u'pbx', u'pcaob', u'pcs', u'pdf', u'peak', u'peer', u'penalties', u'penalty', u'pending', u'penn', u'pennsylvania', u'penny', u'pension', u'penson', u'peo', u'people', u'per', u'perceived', u'percent', u'percentage', u'percentages', u'perform', u'performance', u'performed', u'performing', u'performs', u'perhaps', u'period', u'periodic', u'periodically', u'periods', u'permanent', u'permanently', u'permissible', u'permission', u'permit', u'permits', u'permitted', u'permitting', u'person', u'personal', u'personally', u'personnel', u'persons', u'perspective', u'persuaded', u'pertaining', u'pertinent', u'pet', u'peter', u'peters', u'petition', u'petitioner', u'petitioners', u'petitions', u'petroleum', u'pf', u'phase', u'philadelphia', u'phlx', u'phoenix', u'phone', u'phrase', u'physical', u'physically', u'picture', u'pilot', u'pim', u'pimco', u'pittsburgh', u'place', u'placed', u'placement', u'placements', u'places', u'placing', u'plain', u'plaintiff', u'plaintiffs', u'plan', u'planned', u'planner', u'planning', u'plans', u'plant', u'platform', u'platforms', u'play', u'plc', u'plea', u'pleaded', u'please', u'pledged', u'plus', u'pm', u'pmu', u'po', u'point', u'pointed', u'points', u'police', u'policies', u'policy', u'political', u'pool', u'pooled', u'pools', u'poor', u'population', u'port', u'portal', u'portals', u'portfolio', u'portfolios', u'portion', u'portions', u'pose', u'posed', u'position', u'positions', u'positive', u'possession', u'possibility', u'possible', u'possibly', u'post', u'postal', u'posted', u'posting', u'potential', u'potentially', u'power', u'powers', u'pp', u'ppm', u'ppms', u'pr', u'pra', u'practicable', u'practical', u'practice', u'practices', u'practicing', u'pre', u'preceded', u'preceding', u'precise', u'preclude', u'predecessor', u'predict', u'prefer', u'preference', u'preferred', u'prehearing', u'prejudgment', u'prejudice', u'preliminarily', u'preliminary', u'premier', u'premium', u'premiums', u'preparation', u'prepare', u'prepared', u'preparing', u'prescribe', u'prescribed', u'presence', u'present', u'presentation', u'presented', u'presenting', u'presently', u'presents', u'preservation', u'preserve', u'preserved', u'president', u'presiding', u'press', u'pressure', u'presumption', u'prevailing', u'prevent', u'prevented', u'preventing', u'prevention', u'previous', u'previously', u'price', u'priced', u'prices', u'pricing', u'primarily', u'primary', u'prime', u'principal', u'principally', u'principals', u'principle', u'principles', u'print', u'printed', u'printing', u'prior', u'priorities', u'priority', u'prison', u'privacy', u'private', u'privately', u'privilege', u'privileges', u'pro', u'probability', u'probable', u'probably', u'probation', u'problem', u'problems', u'proc', u'procedural', u'procedure', u'procedures', u'proceed', u'proceeding', u'proceedings', u'proceeds', u'process', u'processed', u'processes', u'processing', u'processor', u'produce', u'produced', u'producing', u'product', u'production', u'productivity', u'products', u'prof', u'profession', u'professional', u'professionals', u'professor', u'profile', u'profit', u'profitable', u'profits', u'program', u'programmatic', u'programme', u'programmer', u'programmes', u'programs', u'progress', u'prohibit', u'prohibited', u'prohibiting', u'prohibition', u'prohibitions', u'prohibits', u'project', u'projected', u'projections', u'projects', u'promised', u'promissory', u'promote', u'promoted', u'promoter', u'promoters', u'promoting', u'promotion', u'promotional', u'promotions', u'prompt', u'promptly', u'promulgated', u'proof', u'prop', u'proper', u'properly', u'properties', u'property', u'proportion', u'proposal', u'proposals', u'propose', u'proposed', u'proposes', u'proposing', u'proprietary', u'prosecuting', u'prosecution', u'prospective', u'prospects', u'prospectus', u'prospectuses', u'protect', u'protected', u'protecting', u'protection', u'protections', u'protective', u'prove', u'provide', u'provided', u'providence', u'provider', u'providers', u'provides', u'providing', u'province', u'provincial', u'provision', u'provisional', u'provisions', u'proxies', u'proxy', u'prudential', u'pse', u'psychological', u'pt', u'pub', u'public', u'publication', u'publications', u'publicly', u'publish', u'published', u'publishes', u'publishing', u'purchase', u'purchased', u'purchaser', u'purchasers', u'purchases', u'purchasing', u'purported', u'purportedly', u'purpose', u'purposes', u'pursuant', u'pursue', u'put', u'putnam', u'puts', u'pw', u'qrm', u'qsf', u'qualification', u'qualifications', u'qualified', u'qualifies', u'qualify', u'qualifying', u'qualitative', u'quality', u'quantify', u'quantitative', u'quantity', u'quarter', u'quarterly', u'quarters', u'question', u'questionable', u'questioned', u'questionnaire', u'questions', u'quickly', u'quite', u'quotation', u'quotations', u'quote', u'quoted', u'quotes', u'quoting', u'ra', u'race', u'radio', u'railroad', u'raise', u'raised', u'raises', u'raising', u'range', u'ranges', u'ranging', u'rapid', u'rata', u'rate', u'rated', u'rates', u'rather', u'rating', u'ratings', u'ratio', u'rationale', u'ratios', u'raymond', u'rbc', u'rd', u'reach', u'reached', u'reaching', u'read', u'readily', u'reading', u'ready', u'real', u'reality', u'realize', u'realized', u'really', u'reason', u'reasonable', u'reasonably', u'reasons', u'rebates', u'recall', u'receipt', u'receipts', u'receivable', u'receivables', u'receive', u'received', u'receiver', u'receivership', u'receives', u'receiving', u'recent', u'recently', u'recipient', u'recipients', u'reckless', u'recklessly', u'recognition', u'recognize', u'recognized', u'recognizes', u'recognizing', u'recommend', u'recommendation', u'recommendations', u'recommended', u'recommending', u'recommends', u'reconciliation', u'record', u'recorded', u'recording', u'recordkeeping', u'records', u'recourse', u'recover', u'recovery', u'recruitment', u'recurrent', u'red', u'redacted', u'redeem', u'redeemable', u'redeemed', u'redeeming', u'redemption', u'redemptions', u'reduce', u'reduced', u'reduces', u'reducing', u'reduction', u'reed', u'reentry', u'refer', u'reference', u'referenced', u'references', u'referencing', u'referral', u'referrals', u'referred', u'referring', u'refers', u'reflect', u'reflected', u'reflecting', u'reflects', u'reform', u'reforms', u'refund', u'refusal', u'refused', u'reg', u'regard', u'regarding', u'regardless', u'regime', u'regimes', u'region', u'regional', u'register', u'registered', u'registering', u'registrant', u'registrants', u'registrar', u'registration', u'registrations', u'regular', u'regularly', u'regulate', u'regulated', u'regulating', u'regulation', u'regulations', u'regulator', u'regulators', u'regulatory', u'rehearing', u'reimbursement', u'reinstatement', u'reject', u'rejected', u'rel', u'relate', u'related', u'relates', u'relating', u'relation', u'relations', u'relationship', u'relationships', u'relative', u'relatively', u'release', u'released', u'releases', u'relevant', u'reliability', u'reliable', u'reliance', u'relied', u'relief', u'relies', u'rely', u'relying', u'remain', u'remainder', u'remained', u'remaining', u'remains', u'remanded', u'remedial', u'remedies', u'remedy', u'remote', u'removal', u'remove', u'removed', u'removing', u'remuneration', u'render', u'rendered', u'renewal', u'rent', u'reorganization', u'reorganizations', u'reorganized', u'rep', u'repay', u'repayment', u'repeated', u'repeatedly', u'replace', u'replaced', u'replacement', u'replacing', u'reply', u'report', u'reportable', u'reported', u'reporting', u'reports', u'repositories', u'repository', u'represent', u'representation', u'representations', u'representative', u'representatives', u'represented', u'representing', u'represents', u'reproposal', u'republic', u'repurchase', u'reputation', u'request', u'requested', u'requesting', u'requests', u'require', u'required', u'requirement', u'requirements', u'requires', u'requiring', u'requisite', u'resale', u'resales', u'rescission', u'research', u'reserve', u'reserved', u'reserves', u'residence', u'resident', u'residential', u'residents', u'resides', u'residual', u'resignation', u'resigned', u'resolution', u'resolve', u'resolved', u'resolving', u'resource', u'resources', u'resp', u'respect', u'respectfully', u'respective', u'respectively', u'respects', u'respond', u'responded', u'respondent', u'respondents', u'responding', u'response', u'responses', u'responsibilities', u'responsibility', u'responsible', u'responsive', u'rest', u'restated', u'restatement', u'restitution', u'restraining', u'restrict', u'restricted', u'restriction', u'restrictions', u'restructuring', u'result', u'resulted', u'resulting', u'results', u'resume', u'retail', u'retain', u'retained', u'retaining', u'retains', u'retaliation', u'retention', u'retired', u'retirement', u'return', u'returned', u'returns', u'rev', u'reveal', u'revealed', u'revenue', u'revenues', u'reverse', u'reversed', u'review', u'reviewed', u'reviewing', u'reviews', u'revise', u'revised', u'revising', u'revision', u'revisions', u'revocation', u'revoke', u'revoked', u'revolving', u'reward', u'rewards', u'rfa', u'ri', u'riad', u'richard', u'right', u'rights', u'rise', u'risk', u'risks', u'risky', u'river', u'rmbs', u'rn', u'road', u'robert', u'roberts', u'robust', u'rogers', u'role', u'roles', u'room', u'rose', u'ross', u'round', u'rounding', u'roundtable', u'route', u'routed', u'routine', u'routinely', u'routing', u'rowe', u'royal', u'royalty', u'rpm', u'rs', u'ruby', u'rule', u'rulemaking', u'rules', u'ruling', u'rulings', u'run', u'running', u'rural', u'russell', u'rust', u'sa', u'sachs', u'safe', u'safeguards', u'safety', u'said', u'salaries', u'salary', u'sale', u'sales', u'salt', u'salutric', u'sample', u'sampling', u'san', u'sanction', u'sanctions', u'santa', u'sar', u'sarbanes', u'sasb', u'satisfaction', u'satisfactory', u'satisfied', u'satisfies', u'satisfy', u'satisfying', u'saving', u'savings', u'say', u'sb', u'sbs', u'sbsd', u'sbsds', u'sbse', u'sbsr', u'sc', u'scale', u'scaled', u'scenario', u'scenarios', u'schedule', u'scheduled', u'schedules', u'scheduling', u'scheme', u'schemes', u'school', u'schools', u'schwab', u'sci', u'science', u'sciences', u'scienter', u'scope', u'score', u'scott', u'scp', u'scrutiny', u'sd', u'sdr', u'sdrs', u'se', u'search', u'sears', u'sec', u'second', u'secondary', u'secretary', u'section', u'sections', u'sector', u'secunnes', u'secunties', u'secuntres', u'secure', u'secured', u'securities', u'securitization', u'securitizations', u'securitized', u'security', u'securitybased', u'securityholders', u'see', u'seek', u'seeking', u'seeks', u'seems', u'seen', u'sef', u'sefs', u'segment', u'segments', u'segregated', u'segregation', u'select', u'selected', u'selecting', u'selection', u'self', u'sell', u'seller', u'sellers', u'selling', u'sells', u'semi', u'sen', u'senate', u'send', u'sending', u'senior', u'sense', u'sensitive', u'sensitivity', u'sent', u'sentence', u'sentenced', u'separate', u'separately', u'separation', u'sept', u'september', u'seq', u'sergeant', u'series', u'serious', u'serve', u'served', u'serves', u'service', u'servicer', u'services', u'servicing', u'serving', u'sess', u'session', u'sessions', u'set', u'sets', u'setting', u'settle', u'settled', u'settlement', u'settlements', u'seven', u'seventh', u'several', u'severe', u'sexual', u'sf', u'shall', u'share', u'shared', u'shareholder', u'shareholders', u'shares', u'sharing', u'sharma', u'sheet', u'sheets', u'shelf', u'shell', u'shift', u'shimla', u'shop', u'short', u'shorter', u'shortfall', u'shortly', u'show', u'showed', u'showing', u'shown', u'shows', u'shrm', u'shtml', u'sic', u'sick', u'side', u'sides', u'sifma', u'sign', u'signature', u'signatures', u'signed', u'significance', u'significant', u'significantly', u'signing', u'similar', u'similarly', u'simple', u'simplification', u'simplify', u'simply', u'simultaneously', u'since', u'singh', u'single', u'sion', u'sipa', u'sipc', u'site', u'sites', u'situation', u'situations', u'six', u'sixth', u'sixty', u'size', u'sizes', u'skill', u'skills', u'slc', u'slightly', u'small', u'smaller', u'smith', u'sncoic', u'snrfor', u'socents', u'social', u'society', u'soft', u'software', u'sold', u'sole', u'solely', u'solicit', u'solicitation', u'solicitations', u'solicited', u'soliciting', u'solicitor', u'solution', u'solutions', u'someone', u'something', u'sometimes', u'somewhat', u'son', u'soon', u'sophisticated', u'sophistication', u'sort', u'sought', u'sound', u'soundness', u'source', u'sources', u'south', u'southern', u'sovereign', u'space', u'special', u'specialist', u'specialists', u'specialized', u'specific', u'specifically', u'specification', u'specifications', u'specified', u'specifies', u'specify', u'specifying', u'speculative', u'speech', u'speed', u'spend', u'spent', u'split', u'spokane', u'sponsor', u'sponsored', u'sponsors', u'sports', u'spouse', u'spread', u'spreads', u'springs', u'spruce', u'squared', u'sr', u'srcs', u'sro', u'sros', u'ss', u'ssion', u'st', u'sta', u'stability', u'stabilizing', u'stable', u'staff', u'staffing', u'stage', u'stages', u'stakeholders', u'stale', u'stand', u'standard', u'standardized', u'standards', u'standing', u'stanley', u'start', u'started', u'starting', u'startup', u'startups', u'stat', u'state', u'stated', u'statement', u'statements', u'states', u'static', u'stating', u'station', u'statistical', u'statistics', u'status', u'statute', u'statutes', u'statutory', u'stay', u'stayed', u'steadman', u'step', u'stephen', u'steps', u'steven', u'still', u'stock', u'stockholder', u'stockholders', u'stocks', u'stolen', u'stop', u'storage', u'stores', u'strategic', u'strategies', u'strategy', u'street', u'strengthen', u'stress', u'stressed', u'strict', u'strike', u'striking', u'strong', u'strongly', u'structural', u'structure', u'structured', u'structures', u'student', u'students', u'studies', u'study', u'sub', u'subcommittee', u'subdivision', u'subject', u'subjects', u'submission', u'submissions', u'submit', u'submits', u'submitted', u'submitting', u'subordinated', u'subparagraph', u'subpart', u'subpoena', u'subpoenas', u'subscriber', u'subscribers', u'subscription', u'subsection', u'subsections', u'subsequent', u'subsequently', u'subsidiaries', u'subsidiary', u'substance', u'substantial', u'substantially', u'substantive', u'substitute', u'substituted', u'subtitle', u'success', u'successful', u'successfully', u'succession', u'successor', u'suffered', u'sufficient', u'sufficiently', u'suggest', u'suggested', u'suggesting', u'suggestion', u'suggestions', u'suggests', u'suisse', u'suit', u'suitability', u'suitable', u'suite', u'suits', u'sum', u'summarized', u'summary', u'summer', u'supervise', u'supervised', u'supervision', u'supervisor', u'supervisors', u'supervisory', u'supp', u'supplement', u'supplemental', u'supplementary', u'supplied', u'supply', u'support', u'supported', u'supporting', u'supports', u'supra', u'supreme', u'sure', u'surplus', u'surrounding', u'surveillance', u'survey', u'surveys', u'susan', u'suspend', u'suspended', u'suspending', u'suspension', u'suspensions', u'sustainability', u'sustained', u'swap', u'swaps', u'swift', u'swing', u'swisher', u'swiss', u'sworn', u'symbol', u'syndicate', u'system', u'systemic', u'systemically', u'systems', u'ta', u'table', u'tables', u'tagliaferri', u'tailored', u'take', u'taken', u'taker', u'takers', u'takes', u'taking', u'talent', u'target', u'targeted', u'targets', u'task', u'tasks', u'tax', u'taxes', u'taylor', u'tbe', u'tchr', u'teacher', u'teachers', u'teaching', u'team', u'teams', u'tech', u'technical', u'technician', u'techniques', u'technological', u'technologies', u'technology', u'telecommunications', u'telefax', u'telephone', u'telephonic', u'tell', u'template', u'temporarily', u'temporary', u'ten', u'tend', u'tender', u'tennessee', u'tenth', u'tenure', u'teo', u'term', u'terminate', u'terminated', u'terminating', u'termination', u'terms', u'territory', u'test', u'tested', u'testified', u'testify', u'testimony', u'testing', u'tests', u'tex', u'texas', u'text', u'th', u'thakur', u'thank', u'theft', u'theory', u'thereafter', u'thereby', u'therefor', u'therefore', u'therein', u'thereof', u'thereon', u'thereto', u'thereunder', u'therewith', u'thing', u'things', u'think', u'third', u'thirty', u'thomas', u'thompson', u'thorough', u'though', u'thought', u'thousand', u'thousands', u'threat', u'three', u'threshold', u'thresholds', u'thrift', u'throughout', u'thus', u'ti', u'ticker', u'tier', u'ties', u'tilocblob', u'time', u'timeframe', u'timeframes', u'timely', u'timer', u'timers', u'times', u'timing', u'timothy', u'tion', u'tions', u'title', u'tiw', u'tl', u'today', u'together', u'told', u'toll', u'took', u'tool', u'tools', u'top', u'topic', u'topics', u'tor', u'total', u'totaled', u'totaling', u'totals', u'toward', u'towards', u'town', u'tp', u'tr', u'track', u'tracking', u'trade', u'traded', u'trader', u'traders', u'trades', u'trading', u'traditional', u'traffic', u'training', u'tranche', u'tranches', u'transact', u'transacting', u'transaction', u'transactions', u'transcript', u'transfer', u'transferred', u'transferring', u'transfers', u'transition', u'transmission', u'transmit', u'transmitted', u'transparency', u'transparent', u'transport', u'transportation', u'travel', u'treasurer', u'treasury', u'treat', u'treated', u'treatment', u'trend', u'trends', u'trial', u'trigger', u'triggered', u'triggering', u'trillion', u'true', u'trust', u'trustee', u'trustees', u'trusts', u'truth', u'try', u'trying', u'ts', u'tsai', u'turn', u'turnover', u'twelve', u'twenty', u'twice', u'two', u'tx', u'type', u'types', u'typical', u'typically', u'ubs', u'uic', u'uics', u'uit', u'uits', u'uk', u'ultimate', u'ultimately', u'unable', u'unacceptable', u'unaffiliated', u'unaudited', u'unauthorized', u'unavailable', u'uncertainty', u'unclear', u'unconsolidated', u'underlying', u'undermine', u'undersigned', u'understand', u'understanding', u'understands', u'understood', u'undertake', u'undertaken', u'undertakes', u'undertaking', u'undertakings', u'undertook', u'underwriter', u'underwriters', u'underwriting', u'undisclosed', u'undue', u'unduly', u'unesco', u'unfair', u'uniform', u'union', u'unions', u'unique', u'unit', u'united', u'units', u'universal', u'university', u'unknown', u'unlawful', u'unless', u'unlike', u'unlikely', u'unlisted', u'unnecessary', u'unpaid', u'unrealized', u'unreasonable', u'unregistered', u'unrelated', u'unsecured', u'untrue', u'unusual', u'update', u'updated', u'updates', u'updating', u'upheld', u'upon', u'upper', u'ups', u'uranium', u'urban', u'urged', u'urging', u'url', u'us', u'usa', u'usage', u'usc', u'usd', u'use', u'used', u'useful', u'usefulness', u'user', u'users', u'uses', u'using', u'usual', u'usually', u'ut', u'utah', u'utilities', u'utility', u'utilize', u'utilized', u'va', u'vacant', u'vacate', u'vacated', u'vacation', u'valid', u'validated', u'validation', u'validity', u'valley', u'valuable', u'valuation', u'valuations', u'value', u'valued', u'values', u'van', u'vanguard', u'var', u'variable', u'variables', u'variance', u'variation', u'variety', u'various', u'vary', u'varying', u'vast', u'vault', u'vehicle', u'vehicles', u'vendor', u'vendors', u'venture', u'ventures', u'venue', u'venues', u'verification', u'verified', u'verify', u'version', u'versus', u'vertical', u'vested', u'vesting', u'vi', u'via', u'vice', u'victims', u'view', u'viewed', u'views', u'vii', u'viii', u'violate', u'violated', u'violates', u'violating', u'violation', u'violations', u'virginia', u'virtually', u'virtue', u'vision', u'visited', u'vital', u'voice', u'void', u'vol', u'volatility', u'volume', u'volumes', u'voluntarily', u'voluntary', u'vote', u'votes', u'voting', u'vwo', u'wage', u'waiting', u'waived', u'waiver', u'wall', u'wallace', u'want', u'wanted', u'war', u'warehouse', u'warning', u'warrant', u'warranted', u'warranties', u'warrants', u'wash', u'washington', u'waste', u'water', u'waterfall', u'way', u'ways', u'weakness', u'weaknesses', u'wealth', u'weatherford', u'web', u'website', u'websites', u'week', u'weekly', u'weeks', u'weight', u'weighted', u'welfare', u'well', u'wells', u'went', u'west', u'western', u'whatever', u'whenever', u'whereas', u'whereby', u'whether', u'whichever', u'whistleblower', u'white', u'whole', u'wholly', u'whose', u'wide', u'widely', u'widespread', u'wife', u'willful', u'willfully', u'william', u'williams', u'willing', u'willingness', u'wilson', u'wire', u'wisconsin', u'wish', u'wishes', u'withdraw', u'withdrawal', u'withdrawals', u'withdrawn', u'withdrew', u'within', u'without', u'witness', u'witnesses', u'wl', u'wmma', u'women', u'word', u'words', u'work', u'worked', u'worker', u'workers', u'workforce', u'working', u'workload', u'workplace', u'works', u'world', u'worldwide', u'worth', u'would', u'writ', u'write', u'writing', u'written', u'wrong', u'wrongdoing', u'wrongful', u'wrote', u'www', u'xbrl', u'xi', u'xii', u'xml', u'xr', u'xs', u'xv', u'xxxx', u'year', u'years', u'yes', u'yet', u'yield', u'york', u'young', u'yyyy', u'zero', u'ziff']\n"
     ]
    }
   ],
   "source": [
    "vocab = vectorizer.get_feature_names()\n",
    "print vocab"
   ]
  },
  {
   "cell_type": "code",
   "execution_count": 144,
   "metadata": {
    "collapsed": false
   },
   "outputs": [],
   "source": [
    "tf_idf_sum = np.sum(train_data_np, axis=0)\n",
    "tf_idf_sum_vocab = pd.DataFrame(data=zip(vocab, tf_idf_sum),columns=['word','tf_idf_sum'])"
   ]
  },
  {
   "cell_type": "code",
   "execution_count": 145,
   "metadata": {
    "collapsed": false
   },
   "outputs": [
    {
     "name": "stderr",
     "output_type": "stream",
     "text": [
      "/Users/ilabuser/anaconda/lib/python2.7/site-packages/ipykernel/__main__.py:1: FutureWarning: sort(columns=....) is deprecated, use sort_values(by=.....)\n",
      "  if __name__ == '__main__':\n"
     ]
    },
    {
     "data": {
      "text/html": [
       "<div>\n",
       "<table border=\"1\" class=\"dataframe\">\n",
       "  <thead>\n",
       "    <tr style=\"text-align: right;\">\n",
       "      <th></th>\n",
       "      <th>word</th>\n",
       "      <th>tf_idf_sum</th>\n",
       "    </tr>\n",
       "  </thead>\n",
       "  <tbody>\n",
       "    <tr>\n",
       "      <th>879</th>\n",
       "      <td>commission</td>\n",
       "      <td>44.442263</td>\n",
       "    </tr>\n",
       "    <tr>\n",
       "      <th>4116</th>\n",
       "      <td>securities</td>\n",
       "      <td>32.551534</td>\n",
       "    </tr>\n",
       "    <tr>\n",
       "      <th>1759</th>\n",
       "      <td>exchange</td>\n",
       "      <td>27.899200</td>\n",
       "    </tr>\n",
       "    <tr>\n",
       "      <th>73</th>\n",
       "      <td>act</td>\n",
       "      <td>26.135174</td>\n",
       "    </tr>\n",
       "    <tr>\n",
       "      <th>3189</th>\n",
       "      <td>order</td>\n",
       "      <td>24.495542</td>\n",
       "    </tr>\n",
       "    <tr>\n",
       "      <th>113</th>\n",
       "      <td>administrative</td>\n",
       "      <td>22.310881</td>\n",
       "    </tr>\n",
       "    <tr>\n",
       "      <th>3934</th>\n",
       "      <td>respondent</td>\n",
       "      <td>21.893046</td>\n",
       "    </tr>\n",
       "    <tr>\n",
       "      <th>2326</th>\n",
       "      <td>inc</td>\n",
       "      <td>19.867856</td>\n",
       "    </tr>\n",
       "    <tr>\n",
       "      <th>3639</th>\n",
       "      <td>pursuant</td>\n",
       "      <td>17.582889</td>\n",
       "    </tr>\n",
       "    <tr>\n",
       "      <th>2053</th>\n",
       "      <td>fund</td>\n",
       "      <td>16.673631</td>\n",
       "    </tr>\n",
       "    <tr>\n",
       "      <th>4108</th>\n",
       "      <td>section</td>\n",
       "      <td>16.611012</td>\n",
       "    </tr>\n",
       "    <tr>\n",
       "      <th>3935</th>\n",
       "      <td>respondents</td>\n",
       "      <td>16.054756</td>\n",
       "    </tr>\n",
       "    <tr>\n",
       "      <th>3138</th>\n",
       "      <td>oip</td>\n",
       "      <td>15.969723</td>\n",
       "    </tr>\n",
       "    <tr>\n",
       "      <th>2184</th>\n",
       "      <td>hearing</td>\n",
       "      <td>15.900993</td>\n",
       "    </tr>\n",
       "    <tr>\n",
       "      <th>3521</th>\n",
       "      <td>proceeding</td>\n",
       "      <td>15.623891</td>\n",
       "    </tr>\n",
       "    <tr>\n",
       "      <th>3522</th>\n",
       "      <td>proceedings</td>\n",
       "      <td>15.556393</td>\n",
       "    </tr>\n",
       "    <tr>\n",
       "      <th>4029</th>\n",
       "      <td>rule</td>\n",
       "      <td>14.888743</td>\n",
       "    </tr>\n",
       "    <tr>\n",
       "      <th>3375</th>\n",
       "      <td>plan</td>\n",
       "      <td>14.622206</td>\n",
       "    </tr>\n",
       "    <tr>\n",
       "      <th>2555</th>\n",
       "      <td>judge</td>\n",
       "      <td>13.810198</td>\n",
       "    </tr>\n",
       "    <tr>\n",
       "      <th>1923</th>\n",
       "      <td>file</td>\n",
       "      <td>13.780479</td>\n",
       "    </tr>\n",
       "    <tr>\n",
       "      <th>1468</th>\n",
       "      <td>distribution</td>\n",
       "      <td>13.334787</td>\n",
       "    </tr>\n",
       "    <tr>\n",
       "      <th>1246</th>\n",
       "      <td>decision</td>\n",
       "      <td>13.270311</td>\n",
       "    </tr>\n",
       "    <tr>\n",
       "      <th>3831</th>\n",
       "      <td>release</td>\n",
       "      <td>13.102475</td>\n",
       "    </tr>\n",
       "    <tr>\n",
       "      <th>3449</th>\n",
       "      <td>prehearing</td>\n",
       "      <td>12.835133</td>\n",
       "    </tr>\n",
       "    <tr>\n",
       "      <th>1481</th>\n",
       "      <td>division</td>\n",
       "      <td>12.256732</td>\n",
       "    </tr>\n",
       "    <tr>\n",
       "      <th>2616</th>\n",
       "      <td>law</td>\n",
       "      <td>12.169457</td>\n",
       "    </tr>\n",
       "    <tr>\n",
       "      <th>4104</th>\n",
       "      <td>sec</td>\n",
       "      <td>11.653490</td>\n",
       "    </tr>\n",
       "    <tr>\n",
       "      <th>979</th>\n",
       "      <td>conference</td>\n",
       "      <td>11.560854</td>\n",
       "    </tr>\n",
       "    <tr>\n",
       "      <th>4033</th>\n",
       "      <td>rulings</td>\n",
       "      <td>11.435217</td>\n",
       "    </tr>\n",
       "    <tr>\n",
       "      <th>2825</th>\n",
       "      <td>may</td>\n",
       "      <td>11.250666</td>\n",
       "    </tr>\n",
       "    <tr>\n",
       "      <th>...</th>\n",
       "      <td>...</td>\n",
       "      <td>...</td>\n",
       "    </tr>\n",
       "    <tr>\n",
       "      <th>1911</th>\n",
       "      <td>fia</td>\n",
       "      <td>0.014521</td>\n",
       "    </tr>\n",
       "    <tr>\n",
       "      <th>3989</th>\n",
       "      <td>revolving</td>\n",
       "      <td>0.014442</td>\n",
       "    </tr>\n",
       "    <tr>\n",
       "      <th>1172</th>\n",
       "      <td>csd</td>\n",
       "      <td>0.014210</td>\n",
       "    </tr>\n",
       "    <tr>\n",
       "      <th>2803</th>\n",
       "      <td>markit</td>\n",
       "      <td>0.013761</td>\n",
       "    </tr>\n",
       "    <tr>\n",
       "      <th>2257</th>\n",
       "      <td>ias</td>\n",
       "      <td>0.013572</td>\n",
       "    </tr>\n",
       "    <tr>\n",
       "      <th>4130</th>\n",
       "      <td>sefs</td>\n",
       "      <td>0.013564</td>\n",
       "    </tr>\n",
       "    <tr>\n",
       "      <th>4987</th>\n",
       "      <td>xs</td>\n",
       "      <td>0.013554</td>\n",
       "    </tr>\n",
       "    <tr>\n",
       "      <th>4511</th>\n",
       "      <td>takers</td>\n",
       "      <td>0.013290</td>\n",
       "    </tr>\n",
       "    <tr>\n",
       "      <th>4071</th>\n",
       "      <td>sbsd</td>\n",
       "      <td>0.012818</td>\n",
       "    </tr>\n",
       "    <tr>\n",
       "      <th>2070</th>\n",
       "      <td>gamma</td>\n",
       "      <td>0.012624</td>\n",
       "    </tr>\n",
       "    <tr>\n",
       "      <th>629</th>\n",
       "      <td>bunched</td>\n",
       "      <td>0.012540</td>\n",
       "    </tr>\n",
       "    <tr>\n",
       "      <th>3352</th>\n",
       "      <td>pf</td>\n",
       "      <td>0.012258</td>\n",
       "    </tr>\n",
       "    <tr>\n",
       "      <th>1489</th>\n",
       "      <td>docx</td>\n",
       "      <td>0.012156</td>\n",
       "    </tr>\n",
       "    <tr>\n",
       "      <th>3103</th>\n",
       "      <td>occupy</td>\n",
       "      <td>0.011882</td>\n",
       "    </tr>\n",
       "    <tr>\n",
       "      <th>368</th>\n",
       "      <td>asf</td>\n",
       "      <td>0.011786</td>\n",
       "    </tr>\n",
       "    <tr>\n",
       "      <th>447</th>\n",
       "      <td>authorised</td>\n",
       "      <td>0.011734</td>\n",
       "    </tr>\n",
       "    <tr>\n",
       "      <th>5</th>\n",
       "      <td>abcp</td>\n",
       "      <td>0.011646</td>\n",
       "    </tr>\n",
       "    <tr>\n",
       "      <th>2097</th>\n",
       "      <td>giver</td>\n",
       "      <td>0.011142</td>\n",
       "    </tr>\n",
       "    <tr>\n",
       "      <th>357</th>\n",
       "      <td>arp</td>\n",
       "      <td>0.011053</td>\n",
       "    </tr>\n",
       "    <tr>\n",
       "      <th>1333</th>\n",
       "      <td>depts</td>\n",
       "      <td>0.010938</td>\n",
       "    </tr>\n",
       "    <tr>\n",
       "      <th>3890</th>\n",
       "      <td>reproposal</td>\n",
       "      <td>0.010558</td>\n",
       "    </tr>\n",
       "    <tr>\n",
       "      <th>4287</th>\n",
       "      <td>soundness</td>\n",
       "      <td>0.010543</td>\n",
       "    </tr>\n",
       "    <tr>\n",
       "      <th>4433</th>\n",
       "      <td>subtitle</td>\n",
       "      <td>0.010001</td>\n",
       "    </tr>\n",
       "    <tr>\n",
       "      <th>2969</th>\n",
       "      <td>msbsp</td>\n",
       "      <td>0.009497</td>\n",
       "    </tr>\n",
       "    <tr>\n",
       "      <th>511</th>\n",
       "      <td>bds</td>\n",
       "      <td>0.009014</td>\n",
       "    </tr>\n",
       "    <tr>\n",
       "      <th>544</th>\n",
       "      <td>bhc</td>\n",
       "      <td>0.008555</td>\n",
       "    </tr>\n",
       "    <tr>\n",
       "      <th>3069</th>\n",
       "      <td>novation</td>\n",
       "      <td>0.006339</td>\n",
       "    </tr>\n",
       "    <tr>\n",
       "      <th>481</th>\n",
       "      <td>backloading</td>\n",
       "      <td>0.004394</td>\n",
       "    </tr>\n",
       "    <tr>\n",
       "      <th>946</th>\n",
       "      <td>compression</td>\n",
       "      <td>0.004277</td>\n",
       "    </tr>\n",
       "    <tr>\n",
       "      <th>4986</th>\n",
       "      <td>xr</td>\n",
       "      <td>0.004112</td>\n",
       "    </tr>\n",
       "  </tbody>\n",
       "</table>\n",
       "<p>5000 rows × 2 columns</p>\n",
       "</div>"
      ],
      "text/plain": [
       "                word  tf_idf_sum\n",
       "879       commission   44.442263\n",
       "4116      securities   32.551534\n",
       "1759        exchange   27.899200\n",
       "73               act   26.135174\n",
       "3189           order   24.495542\n",
       "113   administrative   22.310881\n",
       "3934      respondent   21.893046\n",
       "2326             inc   19.867856\n",
       "3639        pursuant   17.582889\n",
       "2053            fund   16.673631\n",
       "4108         section   16.611012\n",
       "3935     respondents   16.054756\n",
       "3138             oip   15.969723\n",
       "2184         hearing   15.900993\n",
       "3521      proceeding   15.623891\n",
       "3522     proceedings   15.556393\n",
       "4029            rule   14.888743\n",
       "3375            plan   14.622206\n",
       "2555           judge   13.810198\n",
       "1923            file   13.780479\n",
       "1468    distribution   13.334787\n",
       "1246        decision   13.270311\n",
       "3831         release   13.102475\n",
       "3449      prehearing   12.835133\n",
       "1481        division   12.256732\n",
       "2616             law   12.169457\n",
       "4104             sec   11.653490\n",
       "979       conference   11.560854\n",
       "4033         rulings   11.435217\n",
       "2825             may   11.250666\n",
       "...              ...         ...\n",
       "1911             fia    0.014521\n",
       "3989       revolving    0.014442\n",
       "1172             csd    0.014210\n",
       "2803          markit    0.013761\n",
       "2257             ias    0.013572\n",
       "4130            sefs    0.013564\n",
       "4987              xs    0.013554\n",
       "4511          takers    0.013290\n",
       "4071            sbsd    0.012818\n",
       "2070           gamma    0.012624\n",
       "629          bunched    0.012540\n",
       "3352              pf    0.012258\n",
       "1489            docx    0.012156\n",
       "3103          occupy    0.011882\n",
       "368              asf    0.011786\n",
       "447       authorised    0.011734\n",
       "5               abcp    0.011646\n",
       "2097           giver    0.011142\n",
       "357              arp    0.011053\n",
       "1333           depts    0.010938\n",
       "3890      reproposal    0.010558\n",
       "4287       soundness    0.010543\n",
       "4433        subtitle    0.010001\n",
       "2969           msbsp    0.009497\n",
       "511              bds    0.009014\n",
       "544              bhc    0.008555\n",
       "3069        novation    0.006339\n",
       "481      backloading    0.004394\n",
       "946      compression    0.004277\n",
       "4986              xr    0.004112\n",
       "\n",
       "[5000 rows x 2 columns]"
      ]
     },
     "execution_count": 145,
     "metadata": {},
     "output_type": "execute_result"
    }
   ],
   "source": [
    "tf_idf_sum_vocab.sort(columns=['tf_idf_sum'],ascending=False)"
   ]
  },
  {
   "cell_type": "markdown",
   "metadata": {},
   "source": [
    "# PCA"
   ]
  },
  {
   "cell_type": "code",
   "execution_count": 148,
   "metadata": {
    "collapsed": false
   },
   "outputs": [],
   "source": [
    "from sklearn.decomposition import PCA as sklearnPCA\n",
    "sklearn_pca = sklearnPCA(n_components=2)\n",
    "Y_sklearn = sklearn_pca.fit_transform(train_data_np)"
   ]
  },
  {
   "cell_type": "code",
   "execution_count": 158,
   "metadata": {
    "collapsed": false
   },
   "outputs": [
    {
     "data": {
      "text/plain": [
       "array([ 0.06603156, -0.01719801,  0.00901704, ..., -0.03554102,\n",
       "       -0.01681245, -0.01669051])"
      ]
     },
     "execution_count": 158,
     "metadata": {},
     "output_type": "execute_result"
    }
   ],
   "source": [
    "Y_sklearn[:,0]"
   ]
  },
  {
   "cell_type": "code",
   "execution_count": 152,
   "metadata": {
    "collapsed": true
   },
   "outputs": [],
   "source": [
    "import matplotlib.pyplot as plt\n",
    "%matplotlib inline"
   ]
  },
  {
   "cell_type": "code",
   "execution_count": 170,
   "metadata": {
    "collapsed": false
   },
   "outputs": [
    {
     "data": {
      "image/png": "[encoded data removed]",
      "text/plain": [
       "<matplotlib.figure.Figure at 0x12fcc3750>"
      ]
     },
     "metadata": {},
     "output_type": "display_data"
    }
   ],
   "source": [
    "plt.figure(num=None, figsize=(20, 20), dpi=80, facecolor='w', edgecolor='k')\n",
    "plt.plot(Y_sklearn[:,0],Y_sklearn[:,1],'bo')\n",
    "plt.show()"
   ]
  },
  {
   "cell_type": "markdown",
   "metadata": {},
   "source": [
    "# K-means"
   ]
  },
  {
   "cell_type": "code",
   "execution_count": 173,
   "metadata": {
    "collapsed": true
   },
   "outputs": [],
   "source": [
    "from sklearn.cluster import KMeans"
   ]
  },
  {
   "cell_type": "code",
   "execution_count": 180,
   "metadata": {
    "collapsed": true
   },
   "outputs": [],
   "source": [
    "KMeans_euc_model = KMeans(n_clusters=4).fit(train_data_norm)"
   ]
  },
  {
   "cell_type": "code",
   "execution_count": 182,
   "metadata": {
    "collapsed": false
   },
   "outputs": [
    {
     "data": {
      "text/plain": [
       "{'copy_x': True,\n",
       " 'init': 'k-means++',\n",
       " 'max_iter': 300,\n",
       " 'n_clusters': 4,\n",
       " 'n_init': 10,\n",
       " 'n_jobs': 1,\n",
       " 'precompute_distances': 'auto',\n",
       " 'random_state': None,\n",
       " 'tol': 0.0001,\n",
       " 'verbose': 0}"
      ]
     },
     "execution_count": 182,
     "metadata": {},
     "output_type": "execute_result"
    }
   ],
   "source": [
    "KMeans_euc_model.get_params()"
   ]
  },
  {
   "cell_type": "code",
   "execution_count": 185,
   "metadata": {
    "collapsed": false
   },
   "outputs": [
    {
     "data": {
      "text/plain": [
       "array([2425,  431,  300,  520])"
      ]
     },
     "execution_count": 185,
     "metadata": {},
     "output_type": "execute_result"
    }
   ],
   "source": [
    "np.bincount(KMeans_euc_model.labels_)"
   ]
  },
  {
   "cell_type": "code",
   "execution_count": null,
   "metadata": {
    "collapsed": true
   },
   "outputs": [],
   "source": []
  }
 ],
 "metadata": {
  "kernelspec": {
   "display_name": "Python [Root]",
   "language": "python",
   "name": "Python [Root]"
  },
  "language_info": {
   "codemirror_mode": {
    "name": "ipython",
    "version": 2
   },
   "file_extension": ".py",
   "mimetype": "text/x-python",
   "name": "python",
   "nbconvert_exporter": "python",
   "pygments_lexer": "ipython2",
   "version": "2.7.12"
  }
 },
 "nbformat": 4,
 "nbformat_minor": 0
}
