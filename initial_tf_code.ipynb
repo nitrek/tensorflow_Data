{
 "cells": [
  {
   "cell_type": "code",
   "execution_count": 29,
   "metadata": {
    "collapsed": true
   },
   "outputs": [],
   "source": [
    "import csv\n",
    "import re"
   ]
  },
  {
   "cell_type": "code",
   "execution_count": 30,
   "metadata": {
    "collapsed": true
   },
   "outputs": [],
   "source": [
    "txt_file = r\"data/r1.txt\"\n",
    "csv_file = r\"data/r_c.csv\""
   ]
  },
  {
   "cell_type": "code",
   "execution_count": 31,
   "metadata": {
    "collapsed": true
   },
   "outputs": [],
   "source": [
    "#to remove special symbols and numbers\n",
    "string = open('data/r.txt').read()\n",
    "new_str = re.sub('[^a-zA-Z\\n\\.]', ' ', string)  #removed special sym and numbers\n",
    "new_str = re.sub('[\\n]', ' ', new_str)    #removed new line\n",
    "new_str = re.sub('[ ]+', ' ', new_str)    #removed spaces more than one\n",
    "open('data/r1.txt', 'w').write(new_str)"
   ]
  },
  {
   "cell_type": "code",
   "execution_count": 32,
   "metadata": {
    "collapsed": false
   },
   "outputs": [],
   "source": [
    "#converting to csv\n",
    "in_txt = csv.reader(open(txt_file,\"rb\"), delimiter = ' ')\n",
    "out_csv = csv.writer(open(csv_file,'wb'))\n",
    "out_csv.writerows(in_txt)"
   ]
  },
  {
   "cell_type": "code",
   "execution_count": null,
   "metadata": {
    "collapsed": true
   },
   "outputs": [],
   "source": []
  },
  {
   "cell_type": "code",
   "execution_count": null,
   "metadata": {
    "collapsed": true
   },
   "outputs": [],
   "source": []
  }
 ],
 "metadata": {
  "anaconda-cloud": {},
  "kernelspec": {
   "display_name": "Python [conda root]",
   "language": "python",
   "name": "conda-root-py"
  },
  "language_info": {
   "codemirror_mode": {
    "name": "ipython",
    "version": 2
   },
   "file_extension": ".py",
   "mimetype": "text/x-python",
   "name": "python",
   "nbconvert_exporter": "python",
   "pygments_lexer": "ipython2",
   "version": "2.7.12"
  }
 },
 "nbformat": 4,
 "nbformat_minor": 1
}
